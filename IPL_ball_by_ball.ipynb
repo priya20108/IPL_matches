{
  "nbformat": 4,
  "nbformat_minor": 0,
  "metadata": {
    "colab": {
      "name": "IPL ball_by_ball.ipynb",
      "provenance": [],
      "collapsed_sections": []
    },
    "kernelspec": {
      "name": "python3",
      "display_name": "Python 3"
    },
    "language_info": {
      "name": "python"
    }
  },
  "cells": [
    {
      "cell_type": "code",
      "metadata": {
        "id": "6-V7u7Z-Sn93"
      },
      "source": [
        "pip install autoviz"
      ],
      "execution_count": null,
      "outputs": []
    },
    {
      "cell_type": "code",
      "metadata": {
        "id": "NeLjlEBcOyxj"
      },
      "source": [
        "pip install pyforest"
      ],
      "execution_count": null,
      "outputs": []
    },
    {
      "cell_type": "code",
      "metadata": {
        "id": "KMtpv4bZPL3p"
      },
      "source": [
        "import pyforest"
      ],
      "execution_count": 191,
      "outputs": []
    },
    {
      "cell_type": "code",
      "metadata": {
        "colab": {
          "base_uri": "https://localhost:8080/",
          "height": 400
        },
        "id": "3nV5YTd6PQoY",
        "outputId": "f58b070a-4266-4f40-afb0-7352b6342929"
      },
      "source": [
        "df=pd.read_csv(\"/content/IPL Ball-by-Ball 2008-2020.csv\")\n",
        "df.head()"
      ],
      "execution_count": 168,
      "outputs": [
        {
          "output_type": "display_data",
          "data": {
            "application/javascript": [
              "\n",
              "        if (window._pyforest_update_imports_cell) { window._pyforest_update_imports_cell('from sklearn.model_selection import cross_val_score\\nfrom statsmodels.tsa.arima_model import ARIMA\\nimport matplotlib.pyplot as plt\\nimport re\\nimport pandas as pd\\nfrom sklearn.feature_extraction.text import CountVectorizer\\nimport statsmodels.api as sm\\nfrom scipy import stats\\nimport imutils\\nimport sys\\nimport plotly.express as px\\nfrom sklearn import svm\\nimport cv2\\nimport pydot\\nfrom xlrd import open_workbook\\nimport skimage\\nimport sklearn\\nimport plotly as py\\nimport pickle\\nimport spacy\\nimport seaborn as sns\\nimport bokeh\\nimport xgboost as xgb\\nfrom scipy import signal as sg\\nimport dash\\nimport altair as alt\\nimport os\\nimport statistics'); }\n",
              "    "
            ],
            "text/plain": [
              "<IPython.core.display.Javascript object>"
            ]
          },
          "metadata": {}
        },
        {
          "output_type": "execute_result",
          "data": {
            "text/html": [
              "<div>\n",
              "<style scoped>\n",
              "    .dataframe tbody tr th:only-of-type {\n",
              "        vertical-align: middle;\n",
              "    }\n",
              "\n",
              "    .dataframe tbody tr th {\n",
              "        vertical-align: top;\n",
              "    }\n",
              "\n",
              "    .dataframe thead th {\n",
              "        text-align: right;\n",
              "    }\n",
              "</style>\n",
              "<table border=\"1\" class=\"dataframe\">\n",
              "  <thead>\n",
              "    <tr style=\"text-align: right;\">\n",
              "      <th></th>\n",
              "      <th>id</th>\n",
              "      <th>inning</th>\n",
              "      <th>over</th>\n",
              "      <th>ball</th>\n",
              "      <th>batsman</th>\n",
              "      <th>non_striker</th>\n",
              "      <th>bowler</th>\n",
              "      <th>batsman_runs</th>\n",
              "      <th>extra_runs</th>\n",
              "      <th>total_runs</th>\n",
              "      <th>non_boundary</th>\n",
              "      <th>is_wicket</th>\n",
              "      <th>dismissal_kind</th>\n",
              "      <th>player_dismissed</th>\n",
              "      <th>fielder</th>\n",
              "      <th>extras_type</th>\n",
              "      <th>batting_team</th>\n",
              "      <th>bowling_team</th>\n",
              "    </tr>\n",
              "  </thead>\n",
              "  <tbody>\n",
              "    <tr>\n",
              "      <th>0</th>\n",
              "      <td>335982</td>\n",
              "      <td>1</td>\n",
              "      <td>6</td>\n",
              "      <td>5</td>\n",
              "      <td>RT Ponting</td>\n",
              "      <td>BB McCullum</td>\n",
              "      <td>AA Noffke</td>\n",
              "      <td>1</td>\n",
              "      <td>0</td>\n",
              "      <td>1</td>\n",
              "      <td>0</td>\n",
              "      <td>0</td>\n",
              "      <td>NaN</td>\n",
              "      <td>NaN</td>\n",
              "      <td>NaN</td>\n",
              "      <td>NaN</td>\n",
              "      <td>Kolkata Knight Riders</td>\n",
              "      <td>Royal Challengers Bangalore</td>\n",
              "    </tr>\n",
              "    <tr>\n",
              "      <th>1</th>\n",
              "      <td>335982</td>\n",
              "      <td>1</td>\n",
              "      <td>6</td>\n",
              "      <td>6</td>\n",
              "      <td>BB McCullum</td>\n",
              "      <td>RT Ponting</td>\n",
              "      <td>AA Noffke</td>\n",
              "      <td>1</td>\n",
              "      <td>0</td>\n",
              "      <td>1</td>\n",
              "      <td>0</td>\n",
              "      <td>0</td>\n",
              "      <td>NaN</td>\n",
              "      <td>NaN</td>\n",
              "      <td>NaN</td>\n",
              "      <td>NaN</td>\n",
              "      <td>Kolkata Knight Riders</td>\n",
              "      <td>Royal Challengers Bangalore</td>\n",
              "    </tr>\n",
              "    <tr>\n",
              "      <th>2</th>\n",
              "      <td>335982</td>\n",
              "      <td>1</td>\n",
              "      <td>7</td>\n",
              "      <td>1</td>\n",
              "      <td>BB McCullum</td>\n",
              "      <td>RT Ponting</td>\n",
              "      <td>Z Khan</td>\n",
              "      <td>0</td>\n",
              "      <td>0</td>\n",
              "      <td>0</td>\n",
              "      <td>0</td>\n",
              "      <td>0</td>\n",
              "      <td>NaN</td>\n",
              "      <td>NaN</td>\n",
              "      <td>NaN</td>\n",
              "      <td>NaN</td>\n",
              "      <td>Kolkata Knight Riders</td>\n",
              "      <td>Royal Challengers Bangalore</td>\n",
              "    </tr>\n",
              "    <tr>\n",
              "      <th>3</th>\n",
              "      <td>335982</td>\n",
              "      <td>1</td>\n",
              "      <td>7</td>\n",
              "      <td>2</td>\n",
              "      <td>BB McCullum</td>\n",
              "      <td>RT Ponting</td>\n",
              "      <td>Z Khan</td>\n",
              "      <td>1</td>\n",
              "      <td>0</td>\n",
              "      <td>1</td>\n",
              "      <td>0</td>\n",
              "      <td>0</td>\n",
              "      <td>NaN</td>\n",
              "      <td>NaN</td>\n",
              "      <td>NaN</td>\n",
              "      <td>NaN</td>\n",
              "      <td>Kolkata Knight Riders</td>\n",
              "      <td>Royal Challengers Bangalore</td>\n",
              "    </tr>\n",
              "    <tr>\n",
              "      <th>4</th>\n",
              "      <td>335982</td>\n",
              "      <td>1</td>\n",
              "      <td>7</td>\n",
              "      <td>3</td>\n",
              "      <td>RT Ponting</td>\n",
              "      <td>BB McCullum</td>\n",
              "      <td>Z Khan</td>\n",
              "      <td>1</td>\n",
              "      <td>0</td>\n",
              "      <td>1</td>\n",
              "      <td>0</td>\n",
              "      <td>0</td>\n",
              "      <td>NaN</td>\n",
              "      <td>NaN</td>\n",
              "      <td>NaN</td>\n",
              "      <td>NaN</td>\n",
              "      <td>Kolkata Knight Riders</td>\n",
              "      <td>Royal Challengers Bangalore</td>\n",
              "    </tr>\n",
              "  </tbody>\n",
              "</table>\n",
              "</div>"
            ],
            "text/plain": [
              "       id  inning  ...           batting_team                 bowling_team\n",
              "0  335982       1  ...  Kolkata Knight Riders  Royal Challengers Bangalore\n",
              "1  335982       1  ...  Kolkata Knight Riders  Royal Challengers Bangalore\n",
              "2  335982       1  ...  Kolkata Knight Riders  Royal Challengers Bangalore\n",
              "3  335982       1  ...  Kolkata Knight Riders  Royal Challengers Bangalore\n",
              "4  335982       1  ...  Kolkata Knight Riders  Royal Challengers Bangalore\n",
              "\n",
              "[5 rows x 18 columns]"
            ]
          },
          "metadata": {},
          "execution_count": 168
        }
      ]
    },
    {
      "cell_type": "code",
      "metadata": {
        "colab": {
          "base_uri": "https://localhost:8080/"
        },
        "id": "-js6yjwvQJtu",
        "outputId": "a5dbaaff-2440-462a-a19f-11e161056c61"
      },
      "source": [
        "for col in df.columns:\n",
        "  print(col)"
      ],
      "execution_count": 169,
      "outputs": [
        {
          "output_type": "stream",
          "name": "stdout",
          "text": [
            "id\n",
            "inning\n",
            "over\n",
            "ball\n",
            "batsman\n",
            "non_striker\n",
            "bowler\n",
            "batsman_runs\n",
            "extra_runs\n",
            "total_runs\n",
            "non_boundary\n",
            "is_wicket\n",
            "dismissal_kind\n",
            "player_dismissed\n",
            "fielder\n",
            "extras_type\n",
            "batting_team\n",
            "bowling_team\n"
          ]
        }
      ]
    },
    {
      "cell_type": "code",
      "metadata": {
        "colab": {
          "base_uri": "https://localhost:8080/"
        },
        "id": "Q9IYMILZSNsu",
        "outputId": "56ed3df8-37dc-4f8b-d247-b1d58c3a18c5"
      },
      "source": [
        "df.shape"
      ],
      "execution_count": 170,
      "outputs": [
        {
          "output_type": "execute_result",
          "data": {
            "text/plain": [
              "(193468, 18)"
            ]
          },
          "metadata": {},
          "execution_count": 170
        }
      ]
    },
    {
      "cell_type": "code",
      "metadata": {
        "colab": {
          "base_uri": "https://localhost:8080/"
        },
        "id": "X53BNY-XSSLG",
        "outputId": "b07f5a06-5369-48c7-8fa4-76f8927ac1e8"
      },
      "source": [
        "df.info()"
      ],
      "execution_count": 171,
      "outputs": [
        {
          "output_type": "stream",
          "name": "stdout",
          "text": [
            "<class 'pandas.core.frame.DataFrame'>\n",
            "RangeIndex: 193468 entries, 0 to 193467\n",
            "Data columns (total 18 columns):\n",
            " #   Column            Non-Null Count   Dtype \n",
            "---  ------            --------------   ----- \n",
            " 0   id                193468 non-null  int64 \n",
            " 1   inning            193468 non-null  int64 \n",
            " 2   over              193468 non-null  int64 \n",
            " 3   ball              193468 non-null  int64 \n",
            " 4   batsman           193468 non-null  object\n",
            " 5   non_striker       193468 non-null  object\n",
            " 6   bowler            193468 non-null  object\n",
            " 7   batsman_runs      193468 non-null  int64 \n",
            " 8   extra_runs        193468 non-null  int64 \n",
            " 9   total_runs        193468 non-null  int64 \n",
            " 10  non_boundary      193468 non-null  int64 \n",
            " 11  is_wicket         193468 non-null  int64 \n",
            " 12  dismissal_kind    9495 non-null    object\n",
            " 13  player_dismissed  9495 non-null    object\n",
            " 14  fielder           6784 non-null    object\n",
            " 15  extras_type       10233 non-null   object\n",
            " 16  batting_team      193468 non-null  object\n",
            " 17  bowling_team      193277 non-null  object\n",
            "dtypes: int64(9), object(9)\n",
            "memory usage: 26.6+ MB\n"
          ]
        }
      ]
    },
    {
      "cell_type": "code",
      "metadata": {
        "id": "jiig6RyIYQt1"
      },
      "source": [
        "#Replacing the Full names by short names\n",
        "df.replace(['Mumbai Indians','Kolkata Knight Riders','Royal Challengers Bangalore','Deccan Chargers','Chennai Super Kings',\n",
        "                 'Rajasthan Royals','Delhi Daredevils','Gujarat Lions','Kings XI Punjab','Delhi Capitals',\n",
        "                 'Sunrisers Hyderabad','Rising Pune Supergiants','Kochi Tuskers Kerala','Pune Warriors','Rising Pune Supergiant']\n",
        "                ,['MI','KKR','RCB','DC','CSK','RR','DD','GL','KXIP','DCA','SRH','RPS','KTK','PW','RPS'],inplace=True)"
      ],
      "execution_count": 172,
      "outputs": []
    },
    {
      "cell_type": "code",
      "metadata": {
        "id": "rAr65x2UWxCR"
      },
      "source": [
        "#Dropping useless columns\n",
        "df.drop(['id','non_striker','dismissal_kind','player_dismissed','fielder','extras_type'], axis=1, inplace=True)\n",
        "# set id as the index column\n",
        "df.set_index('id', inplace=True)"
      ],
      "execution_count": null,
      "outputs": []
    },
    {
      "cell_type": "code",
      "metadata": {
        "colab": {
          "base_uri": "https://localhost:8080/",
          "height": 424
        },
        "id": "D4ybPqDWXjQm",
        "outputId": "6e364ae4-be0a-4970-ffd5-57705cbe6428"
      },
      "source": [
        "df"
      ],
      "execution_count": 206,
      "outputs": [
        {
          "output_type": "execute_result",
          "data": {
            "text/html": [
              "<div>\n",
              "<style scoped>\n",
              "    .dataframe tbody tr th:only-of-type {\n",
              "        vertical-align: middle;\n",
              "    }\n",
              "\n",
              "    .dataframe tbody tr th {\n",
              "        vertical-align: top;\n",
              "    }\n",
              "\n",
              "    .dataframe thead th {\n",
              "        text-align: right;\n",
              "    }\n",
              "</style>\n",
              "<table border=\"1\" class=\"dataframe\">\n",
              "  <thead>\n",
              "    <tr style=\"text-align: right;\">\n",
              "      <th></th>\n",
              "      <th>inning</th>\n",
              "      <th>over</th>\n",
              "      <th>ball</th>\n",
              "      <th>batsman</th>\n",
              "      <th>bowler</th>\n",
              "      <th>batsman_runs</th>\n",
              "      <th>extra_runs</th>\n",
              "      <th>total_runs</th>\n",
              "      <th>non_boundary</th>\n",
              "      <th>is_wicket</th>\n",
              "      <th>batting_team</th>\n",
              "      <th>bowling_team</th>\n",
              "    </tr>\n",
              "  </thead>\n",
              "  <tbody>\n",
              "    <tr>\n",
              "      <th>0</th>\n",
              "      <td>1</td>\n",
              "      <td>6</td>\n",
              "      <td>5</td>\n",
              "      <td>RT Ponting</td>\n",
              "      <td>AA Noffke</td>\n",
              "      <td>1</td>\n",
              "      <td>0</td>\n",
              "      <td>1</td>\n",
              "      <td>0</td>\n",
              "      <td>0</td>\n",
              "      <td>KKR</td>\n",
              "      <td>RCB</td>\n",
              "    </tr>\n",
              "    <tr>\n",
              "      <th>1</th>\n",
              "      <td>1</td>\n",
              "      <td>6</td>\n",
              "      <td>6</td>\n",
              "      <td>BB McCullum</td>\n",
              "      <td>AA Noffke</td>\n",
              "      <td>1</td>\n",
              "      <td>0</td>\n",
              "      <td>1</td>\n",
              "      <td>0</td>\n",
              "      <td>0</td>\n",
              "      <td>KKR</td>\n",
              "      <td>RCB</td>\n",
              "    </tr>\n",
              "    <tr>\n",
              "      <th>2</th>\n",
              "      <td>1</td>\n",
              "      <td>7</td>\n",
              "      <td>1</td>\n",
              "      <td>BB McCullum</td>\n",
              "      <td>Z Khan</td>\n",
              "      <td>0</td>\n",
              "      <td>0</td>\n",
              "      <td>0</td>\n",
              "      <td>0</td>\n",
              "      <td>0</td>\n",
              "      <td>KKR</td>\n",
              "      <td>RCB</td>\n",
              "    </tr>\n",
              "    <tr>\n",
              "      <th>3</th>\n",
              "      <td>1</td>\n",
              "      <td>7</td>\n",
              "      <td>2</td>\n",
              "      <td>BB McCullum</td>\n",
              "      <td>Z Khan</td>\n",
              "      <td>1</td>\n",
              "      <td>0</td>\n",
              "      <td>1</td>\n",
              "      <td>0</td>\n",
              "      <td>0</td>\n",
              "      <td>KKR</td>\n",
              "      <td>RCB</td>\n",
              "    </tr>\n",
              "    <tr>\n",
              "      <th>4</th>\n",
              "      <td>1</td>\n",
              "      <td>7</td>\n",
              "      <td>3</td>\n",
              "      <td>RT Ponting</td>\n",
              "      <td>Z Khan</td>\n",
              "      <td>1</td>\n",
              "      <td>0</td>\n",
              "      <td>1</td>\n",
              "      <td>0</td>\n",
              "      <td>0</td>\n",
              "      <td>KKR</td>\n",
              "      <td>RCB</td>\n",
              "    </tr>\n",
              "    <tr>\n",
              "      <th>...</th>\n",
              "      <td>...</td>\n",
              "      <td>...</td>\n",
              "      <td>...</td>\n",
              "      <td>...</td>\n",
              "      <td>...</td>\n",
              "      <td>...</td>\n",
              "      <td>...</td>\n",
              "      <td>...</td>\n",
              "      <td>...</td>\n",
              "      <td>...</td>\n",
              "      <td>...</td>\n",
              "      <td>...</td>\n",
              "    </tr>\n",
              "    <tr>\n",
              "      <th>193463</th>\n",
              "      <td>1</td>\n",
              "      <td>12</td>\n",
              "      <td>5</td>\n",
              "      <td>RR Pant</td>\n",
              "      <td>NM Coulter-Nile</td>\n",
              "      <td>0</td>\n",
              "      <td>0</td>\n",
              "      <td>0</td>\n",
              "      <td>0</td>\n",
              "      <td>0</td>\n",
              "      <td>DCA</td>\n",
              "      <td>MI</td>\n",
              "    </tr>\n",
              "    <tr>\n",
              "      <th>193464</th>\n",
              "      <td>1</td>\n",
              "      <td>12</td>\n",
              "      <td>6</td>\n",
              "      <td>RR Pant</td>\n",
              "      <td>NM Coulter-Nile</td>\n",
              "      <td>1</td>\n",
              "      <td>0</td>\n",
              "      <td>1</td>\n",
              "      <td>0</td>\n",
              "      <td>0</td>\n",
              "      <td>DCA</td>\n",
              "      <td>MI</td>\n",
              "    </tr>\n",
              "    <tr>\n",
              "      <th>193465</th>\n",
              "      <td>1</td>\n",
              "      <td>13</td>\n",
              "      <td>1</td>\n",
              "      <td>RR Pant</td>\n",
              "      <td>KH Pandya</td>\n",
              "      <td>0</td>\n",
              "      <td>1</td>\n",
              "      <td>1</td>\n",
              "      <td>0</td>\n",
              "      <td>0</td>\n",
              "      <td>DCA</td>\n",
              "      <td>MI</td>\n",
              "    </tr>\n",
              "    <tr>\n",
              "      <th>193466</th>\n",
              "      <td>1</td>\n",
              "      <td>13</td>\n",
              "      <td>2</td>\n",
              "      <td>RR Pant</td>\n",
              "      <td>KH Pandya</td>\n",
              "      <td>1</td>\n",
              "      <td>0</td>\n",
              "      <td>1</td>\n",
              "      <td>0</td>\n",
              "      <td>0</td>\n",
              "      <td>DCA</td>\n",
              "      <td>MI</td>\n",
              "    </tr>\n",
              "    <tr>\n",
              "      <th>193467</th>\n",
              "      <td>1</td>\n",
              "      <td>13</td>\n",
              "      <td>3</td>\n",
              "      <td>SS Iyer</td>\n",
              "      <td>KH Pandya</td>\n",
              "      <td>1</td>\n",
              "      <td>0</td>\n",
              "      <td>1</td>\n",
              "      <td>0</td>\n",
              "      <td>0</td>\n",
              "      <td>DCA</td>\n",
              "      <td>MI</td>\n",
              "    </tr>\n",
              "  </tbody>\n",
              "</table>\n",
              "<p>193468 rows × 12 columns</p>\n",
              "</div>"
            ],
            "text/plain": [
              "        inning  over  ball  ... is_wicket batting_team  bowling_team\n",
              "0            1     6     5  ...         0          KKR           RCB\n",
              "1            1     6     6  ...         0          KKR           RCB\n",
              "2            1     7     1  ...         0          KKR           RCB\n",
              "3            1     7     2  ...         0          KKR           RCB\n",
              "4            1     7     3  ...         0          KKR           RCB\n",
              "...        ...   ...   ...  ...       ...          ...           ...\n",
              "193463       1    12     5  ...         0          DCA            MI\n",
              "193464       1    12     6  ...         0          DCA            MI\n",
              "193465       1    13     1  ...         0          DCA            MI\n",
              "193466       1    13     2  ...         0          DCA            MI\n",
              "193467       1    13     3  ...         0          DCA            MI\n",
              "\n",
              "[193468 rows x 12 columns]"
            ]
          },
          "metadata": {},
          "execution_count": 206
        }
      ]
    },
    {
      "cell_type": "markdown",
      "metadata": {
        "id": "ojSXb1FKeGwL"
      },
      "source": [
        ". For MI which bowler gave the most extra runs (top 5 only) (take only bowlers who bowled atleast 24 deliveries). Find the % of extra over total balls bowled"
      ]
    },
    {
      "cell_type": "code",
      "metadata": {
        "colab": {
          "base_uri": "https://localhost:8080/"
        },
        "id": "eqWTemv05WpX",
        "outputId": "cac29f46-13ad-4f33-9639-c0781f09220c"
      },
      "source": [
        "#null values\n",
        "df.isnull().sum()"
      ],
      "execution_count": 174,
      "outputs": [
        {
          "output_type": "execute_result",
          "data": {
            "text/plain": [
              "inning            0\n",
              "over              0\n",
              "ball              0\n",
              "batsman           0\n",
              "bowler            0\n",
              "batsman_runs      0\n",
              "extra_runs        0\n",
              "total_runs        0\n",
              "non_boundary      0\n",
              "is_wicket         0\n",
              "batting_team      0\n",
              "bowling_team    191\n",
              "dtype: int64"
            ]
          },
          "metadata": {},
          "execution_count": 174
        }
      ]
    },
    {
      "cell_type": "code",
      "metadata": {
        "colab": {
          "base_uri": "https://localhost:8080/"
        },
        "id": "ESYIUjLUVVXJ",
        "outputId": "6a7c9555-f74a-415d-ca58-0125db7f4181"
      },
      "source": [
        "#non_boundary feature\n",
        "df['non_boundary'].value_counts()"
      ],
      "execution_count": 204,
      "outputs": [
        {
          "output_type": "execute_result",
          "data": {
            "text/plain": [
              "0    193452\n",
              "1        16\n",
              "Name: non_boundary, dtype: int64"
            ]
          },
          "metadata": {},
          "execution_count": 204
        }
      ]
    },
    {
      "cell_type": "code",
      "metadata": {
        "colab": {
          "base_uri": "https://localhost:8080/",
          "height": 520
        },
        "id": "TQCRO73Wm5Pf",
        "outputId": "8e1472ce-e358-4e9c-d367-7b588527728e"
      },
      "source": [
        "#histplot of different features\n",
        "df.plot.hist(bins=40, alpha=0.5)"
      ],
      "execution_count": 175,
      "outputs": [
        {
          "output_type": "execute_result",
          "data": {
            "text/plain": [
              "<matplotlib.axes._subplots.AxesSubplot at 0x7fc39420c550>"
            ]
          },
          "metadata": {},
          "execution_count": 175
        },
        {
          "output_type": "display_data",
          "data": {
            "image/png": "[encoded data removed]",
            "text/plain": [
              "<Figure size 842.4x595.44 with 1 Axes>"
            ]
          },
          "metadata": {}
        }
      ]
    },
    {
      "cell_type": "code",
      "metadata": {
        "colab": {
          "base_uri": "https://localhost:8080/",
          "height": 1000
        },
        "id": "_IoEFQrOp_nm",
        "outputId": "e9c33ba6-a8c2-44db-8379-1401db4ccdab"
      },
      "source": [
        "#distplot of extra_runs and total_runs\n",
        "continous=['extra_runs','total_runs']\n",
        "for column in continous:\n",
        "    plt.figure()\n",
        "    sns.distplot(df[column])"
      ],
      "execution_count": 203,
      "outputs": [
        {
          "output_type": "display_data",
          "data": {
            "application/javascript": [
              "\n",
              "        if (window._pyforest_update_imports_cell) { window._pyforest_update_imports_cell('import fbprophet\\nfrom sklearn.model_selection import cross_val_score\\nfrom statsmodels.tsa.arima_model import ARIMA\\nimport matplotlib.pyplot as plt\\nimport re\\nimport pandas as pd\\nfrom sklearn.feature_extraction.text import CountVectorizer\\nimport statsmodels.api as sm\\nfrom scipy import stats\\nimport imutils\\nimport sys\\nimport plotly.express as px\\nfrom sklearn import svm\\nimport cv2\\nimport pydot\\nfrom xlrd import open_workbook\\nimport skimage\\nimport sklearn\\nimport plotly as py\\nimport pickle\\nimport spacy\\nimport seaborn as sns\\nimport bokeh\\nimport xgboost as xgb\\nfrom scipy import signal as sg\\nimport numpy as np\\nimport dash\\nimport altair as alt\\nimport os\\nimport nltk\\nimport statistics\\nimport fastai'); }\n",
              "    "
            ],
            "text/plain": [
              "<IPython.core.display.Javascript object>"
            ]
          },
          "metadata": {}
        },
        {
          "output_type": "display_data",
          "data": {
            "application/javascript": [
              "\n",
              "        if (window._pyforest_update_imports_cell) { window._pyforest_update_imports_cell('import fbprophet\\nfrom sklearn.model_selection import cross_val_score\\nfrom statsmodels.tsa.arima_model import ARIMA\\nimport matplotlib.pyplot as plt\\nimport re\\nimport pandas as pd\\nfrom sklearn.feature_extraction.text import CountVectorizer\\nimport statsmodels.api as sm\\nfrom scipy import stats\\nimport imutils\\nimport sys\\nimport plotly.express as px\\nfrom sklearn import svm\\nimport cv2\\nimport pydot\\nfrom xlrd import open_workbook\\nimport skimage\\nimport sklearn\\nimport plotly as py\\nimport pickle\\nimport spacy\\nimport seaborn as sns\\nimport bokeh\\nimport xgboost as xgb\\nfrom scipy import signal as sg\\nimport numpy as np\\nimport dash\\nimport altair as alt\\nimport os\\nimport nltk\\nimport statistics\\nimport fastai'); }\n",
              "    "
            ],
            "text/plain": [
              "<IPython.core.display.Javascript object>"
            ]
          },
          "metadata": {}
        },
        {
          "output_type": "display_data",
          "data": {
            "application/javascript": [
              "\n",
              "        if (window._pyforest_update_imports_cell) { window._pyforest_update_imports_cell('import fbprophet\\nfrom sklearn.model_selection import cross_val_score\\nfrom statsmodels.tsa.arima_model import ARIMA\\nimport matplotlib.pyplot as plt\\nimport re\\nimport pandas as pd\\nfrom sklearn.feature_extraction.text import CountVectorizer\\nimport statsmodels.api as sm\\nfrom scipy import stats\\nimport imutils\\nimport sys\\nimport plotly.express as px\\nfrom sklearn import svm\\nimport cv2\\nimport pydot\\nfrom xlrd import open_workbook\\nimport skimage\\nimport sklearn\\nimport plotly as py\\nimport pickle\\nimport spacy\\nimport seaborn as sns\\nimport bokeh\\nimport xgboost as xgb\\nfrom scipy import signal as sg\\nimport numpy as np\\nimport dash\\nimport altair as alt\\nimport os\\nimport nltk\\nimport statistics\\nimport fastai'); }\n",
              "    "
            ],
            "text/plain": [
              "<IPython.core.display.Javascript object>"
            ]
          },
          "metadata": {}
        },
        {
          "output_type": "display_data",
          "data": {
            "application/javascript": [
              "\n",
              "        if (window._pyforest_update_imports_cell) { window._pyforest_update_imports_cell('import fbprophet\\nfrom sklearn.model_selection import cross_val_score\\nfrom statsmodels.tsa.arima_model import ARIMA\\nimport matplotlib.pyplot as plt\\nimport re\\nimport pandas as pd\\nfrom sklearn.feature_extraction.text import CountVectorizer\\nimport statsmodels.api as sm\\nfrom scipy import stats\\nimport imutils\\nimport sys\\nimport plotly.express as px\\nfrom sklearn import svm\\nimport cv2\\nimport pydot\\nfrom xlrd import open_workbook\\nimport skimage\\nimport sklearn\\nimport plotly as py\\nimport pickle\\nimport spacy\\nimport seaborn as sns\\nimport bokeh\\nimport xgboost as xgb\\nfrom scipy import signal as sg\\nimport numpy as np\\nimport dash\\nimport altair as alt\\nimport os\\nimport nltk\\nimport statistics\\nimport fastai'); }\n",
              "    "
            ],
            "text/plain": [
              "<IPython.core.display.Javascript object>"
            ]
          },
          "metadata": {}
        },
        {
          "output_type": "display_data",
          "data": {
            "image/png": "[encoded data removed]",
            "text/plain": [
              "<Figure size 842.4x595.44 with 1 Axes>"
            ]
          },
          "metadata": {}
        },
        {
          "output_type": "display_data",
          "data": {
            "image/png": "[encoded data removed]",
            "text/plain": [
              "<Figure size 842.4x595.44 with 1 Axes>"
            ]
          },
          "metadata": {}
        }
      ]
    },
    {
      "cell_type": "code",
      "metadata": {
        "colab": {
          "base_uri": "https://localhost:8080/"
        },
        "id": "A_s688tuwK5r",
        "outputId": "e08aafe0-fa11-4030-a5d0-7a06e1586238"
      },
      "source": [
        "#inning feature\n",
        "\n",
        "df['inning'].value_counts()"
      ],
      "execution_count": 205,
      "outputs": [
        {
          "output_type": "execute_result",
          "data": {
            "text/plain": [
              "1    100191\n",
              "2     93277\n",
              "Name: inning, dtype: int64"
            ]
          },
          "metadata": {},
          "execution_count": 205
        }
      ]
    },
    {
      "cell_type": "code",
      "metadata": {
        "colab": {
          "base_uri": "https://localhost:8080/",
          "height": 520
        },
        "id": "eugQAiQjvHX2",
        "outputId": "51dd0196-1eaf-41cc-8891-e853194366dd"
      },
      "source": [
        "#hist plot of total_run by ball \n",
        "df.plot( x='ball', y='total_runs', kind='hist')"
      ],
      "execution_count": 207,
      "outputs": [
        {
          "output_type": "execute_result",
          "data": {
            "text/plain": [
              "<matplotlib.axes._subplots.AxesSubplot at 0x7fc3927a2d10>"
            ]
          },
          "metadata": {},
          "execution_count": 207
        },
        {
          "output_type": "display_data",
          "data": {
            "image/png": "[encoded data removed]",
            "text/plain": [
              "<Figure size 842.4x595.44 with 1 Axes>"
            ]
          },
          "metadata": {}
        }
      ]
    },
    {
      "cell_type": "markdown",
      "metadata": {
        "id": "l9QsBl53WAvf"
      },
      "source": [
        "take only bowlers who bowled atleast 1000 deliveries. (only top 5)"
      ]
    },
    {
      "cell_type": "code",
      "metadata": {
        "colab": {
          "base_uri": "https://localhost:8080/",
          "height": 458
        },
        "id": "3DTLLNw0bWtD",
        "outputId": "097a035c-cbf1-40c9-e043-6bae1e5c4094"
      },
      "source": [
        "no_of_deliveries_per_bowler =df[df[\"bowling_team\"] == \"MI\"].groupby(\"bowler\")[\"bowler\"].count().to_frame()\n",
        "no_of_deliveries_per_bowler.rename(columns={'bowler': 'no_of_deliveries'}, inplace=True)\n",
        "no_of_deliveries_per_bowler_atleast1000 = no_of_deliveries_per_bowler[no_of_deliveries_per_bowler['no_of_deliveries'] > 1000]\n",
        "perc = no_of_deliveries_per_bowler_atleast1000\n",
        "perc.sort_values(by='no_of_deliveries', ascending=False).head(8).plot(kind='bar', figsize=(10, 5), title=' deliveries ')"
      ],
      "execution_count": 212,
      "outputs": [
        {
          "output_type": "execute_result",
          "data": {
            "text/plain": [
              "<matplotlib.axes._subplots.AxesSubplot at 0x7fc390b10150>"
            ]
          },
          "metadata": {},
          "execution_count": 212
        },
        {
          "output_type": "display_data",
          "data": {
            "image/png": "[encoded data removed]",
            "text/plain": [
              "<Figure size 720x360 with 1 Axes>"
            ]
          },
          "metadata": {}
        }
      ]
    },
    {
      "cell_type": "code",
      "metadata": {
        "colab": {
          "base_uri": "https://localhost:8080/",
          "height": 537
        },
        "id": "urdU2DpC0JTn",
        "outputId": "48c9c333-60b6-4ded-fc78-4b9d8bd5a5c3"
      },
      "source": [
        "#extra_runs feature\n",
        "sns.barplot(x='batsman_runs',y='extra_runs',data=df)"
      ],
      "execution_count": 213,
      "outputs": [
        {
          "output_type": "display_data",
          "data": {
            "application/javascript": [
              "\n",
              "        if (window._pyforest_update_imports_cell) { window._pyforest_update_imports_cell('import tqdm\\nimport fbprophet\\nfrom sklearn.model_selection import cross_val_score\\nimport textblob\\nfrom statsmodels.tsa.arima_model import ARIMA\\nimport matplotlib.pyplot as plt\\nimport re\\nimport pandas as pd\\nfrom sklearn.feature_extraction.text import CountVectorizer\\nimport statsmodels.api as sm\\nfrom scipy import stats\\nimport imutils\\nimport sys\\nimport plotly.express as px\\nfrom sklearn import svm\\nimport cv2\\nimport pydot\\nfrom xlrd import open_workbook\\nimport skimage\\nimport sklearn\\nimport plotly as py\\nimport pickle\\nimport spacy\\nimport seaborn as sns\\nimport bokeh\\nimport tensorflow as tf\\nimport xgboost as xgb\\nfrom scipy import signal as sg\\nimport numpy as np\\nimport dash\\nimport altair as alt\\nimport os\\nimport nltk\\nimport statistics\\nimport torch\\nfrom sklearn.model_selection import train_test_split\\nimport fastai'); }\n",
              "    "
            ],
            "text/plain": [
              "<IPython.core.display.Javascript object>"
            ]
          },
          "metadata": {}
        },
        {
          "output_type": "execute_result",
          "data": {
            "text/plain": [
              "<matplotlib.axes._subplots.AxesSubplot at 0x7fc2f01a0a10>"
            ]
          },
          "metadata": {},
          "execution_count": 213
        },
        {
          "output_type": "display_data",
          "data": {
            "image/png": "[encoded data removed]",
            "text/plain": [
              "<Figure size 842.4x595.44 with 1 Axes>"
            ]
          },
          "metadata": {}
        }
      ]
    },
    {
      "cell_type": "code",
      "metadata": {
        "colab": {
          "base_uri": "https://localhost:8080/",
          "height": 537
        },
        "id": "vfn-S5sQyfvb",
        "outputId": "e1740fa8-1f60-4df2-cfcf-e76e891a3e3c"
      },
      "source": [
        "sns.boxplot( x='extra_runs', y = 'total_runs', \n",
        "               data=df)"
      ],
      "execution_count": 179,
      "outputs": [
        {
          "output_type": "display_data",
          "data": {
            "application/javascript": [
              "\n",
              "        if (window._pyforest_update_imports_cell) { window._pyforest_update_imports_cell('from sklearn.model_selection import cross_val_score\\nfrom statsmodels.tsa.arima_model import ARIMA\\nimport matplotlib.pyplot as plt\\nimport re\\nimport pandas as pd\\nfrom sklearn.feature_extraction.text import CountVectorizer\\nimport statsmodels.api as sm\\nfrom scipy import stats\\nimport imutils\\nimport sys\\nimport plotly.express as px\\nfrom sklearn import svm\\nimport cv2\\nimport pydot\\nfrom xlrd import open_workbook\\nimport skimage\\nimport sklearn\\nimport plotly as py\\nimport pickle\\nimport spacy\\nimport seaborn as sns\\nimport bokeh\\nimport xgboost as xgb\\nfrom scipy import signal as sg\\nimport dash\\nimport altair as alt\\nimport os\\nimport statistics'); }\n",
              "    "
            ],
            "text/plain": [
              "<IPython.core.display.Javascript object>"
            ]
          },
          "metadata": {}
        },
        {
          "output_type": "execute_result",
          "data": {
            "text/plain": [
              "<matplotlib.axes._subplots.AxesSubplot at 0x7fc3925ee110>"
            ]
          },
          "metadata": {},
          "execution_count": 179
        },
        {
          "output_type": "display_data",
          "data": {
            "image/png": "[encoded data removed]",
            "text/plain": [
              "<Figure size 842.4x595.44 with 1 Axes>"
            ]
          },
          "metadata": {}
        }
      ]
    },
    {
      "cell_type": "code",
      "metadata": {
        "colab": {
          "base_uri": "https://localhost:8080/",
          "height": 537
        },
        "id": "gy9QJ--tAs_I",
        "outputId": "a4265ad3-2673-42a1-8849-6c4b30a124ea"
      },
      "source": [
        "#countplot for batting team with respect to total_runs\n",
        " sns.set_theme(style=\"darkgrid\")\n",
        " sns.set(rc={'figure.figsize':(11.7,8.27)})\n",
        " sns.countplot(x=\"batting_team\",hue='total_runs',data=df)"
      ],
      "execution_count": 180,
      "outputs": [
        {
          "output_type": "display_data",
          "data": {
            "application/javascript": [
              "\n",
              "        if (window._pyforest_update_imports_cell) { window._pyforest_update_imports_cell('from sklearn.model_selection import cross_val_score\\nfrom statsmodels.tsa.arima_model import ARIMA\\nimport matplotlib.pyplot as plt\\nimport re\\nimport pandas as pd\\nfrom sklearn.feature_extraction.text import CountVectorizer\\nimport statsmodels.api as sm\\nfrom scipy import stats\\nimport imutils\\nimport sys\\nimport plotly.express as px\\nfrom sklearn import svm\\nimport cv2\\nimport pydot\\nfrom xlrd import open_workbook\\nimport skimage\\nimport sklearn\\nimport plotly as py\\nimport pickle\\nimport spacy\\nimport seaborn as sns\\nimport bokeh\\nimport xgboost as xgb\\nfrom scipy import signal as sg\\nimport dash\\nimport altair as alt\\nimport os\\nimport statistics'); }\n",
              "    "
            ],
            "text/plain": [
              "<IPython.core.display.Javascript object>"
            ]
          },
          "metadata": {}
        },
        {
          "output_type": "display_data",
          "data": {
            "application/javascript": [
              "\n",
              "        if (window._pyforest_update_imports_cell) { window._pyforest_update_imports_cell('from sklearn.model_selection import cross_val_score\\nfrom statsmodels.tsa.arima_model import ARIMA\\nimport matplotlib.pyplot as plt\\nimport re\\nimport pandas as pd\\nfrom sklearn.feature_extraction.text import CountVectorizer\\nimport statsmodels.api as sm\\nfrom scipy import stats\\nimport imutils\\nimport sys\\nimport plotly.express as px\\nfrom sklearn import svm\\nimport cv2\\nimport pydot\\nfrom xlrd import open_workbook\\nimport skimage\\nimport sklearn\\nimport plotly as py\\nimport pickle\\nimport spacy\\nimport seaborn as sns\\nimport bokeh\\nimport xgboost as xgb\\nfrom scipy import signal as sg\\nimport dash\\nimport altair as alt\\nimport os\\nimport statistics'); }\n",
              "    "
            ],
            "text/plain": [
              "<IPython.core.display.Javascript object>"
            ]
          },
          "metadata": {}
        },
        {
          "output_type": "display_data",
          "data": {
            "application/javascript": [
              "\n",
              "        if (window._pyforest_update_imports_cell) { window._pyforest_update_imports_cell('from sklearn.model_selection import cross_val_score\\nfrom statsmodels.tsa.arima_model import ARIMA\\nimport matplotlib.pyplot as plt\\nimport re\\nimport pandas as pd\\nfrom sklearn.feature_extraction.text import CountVectorizer\\nimport statsmodels.api as sm\\nfrom scipy import stats\\nimport imutils\\nimport sys\\nimport plotly.express as px\\nfrom sklearn import svm\\nimport cv2\\nimport pydot\\nfrom xlrd import open_workbook\\nimport skimage\\nimport sklearn\\nimport plotly as py\\nimport pickle\\nimport spacy\\nimport seaborn as sns\\nimport bokeh\\nimport xgboost as xgb\\nfrom scipy import signal as sg\\nimport dash\\nimport altair as alt\\nimport os\\nimport statistics'); }\n",
              "    "
            ],
            "text/plain": [
              "<IPython.core.display.Javascript object>"
            ]
          },
          "metadata": {}
        },
        {
          "output_type": "execute_result",
          "data": {
            "text/plain": [
              "<matplotlib.axes._subplots.AxesSubplot at 0x7fc391331c50>"
            ]
          },
          "metadata": {},
          "execution_count": 180
        },
        {
          "output_type": "display_data",
          "data": {
            "image/png": "[encoded data removed]",
            "text/plain": [
              "<Figure size 842.4x595.44 with 1 Axes>"
            ]
          },
          "metadata": {}
        }
      ]
    },
    {
      "cell_type": "code",
      "metadata": {
        "colab": {
          "base_uri": "https://localhost:8080/",
          "height": 537
        },
        "id": "yScjw_2RDI84",
        "outputId": "71a99e4c-eb23-4398-ed4d-724a1cdf8d47"
      },
      "source": [
        " #countplot for batting tem with respect to extra runs\n",
        " sns.set_theme(style=\"darkgrid\")\n",
        " sns.set(rc={'figure.figsize':(11.7,8.27)})\n",
        " sns.countplot(x=\"batting_team\",hue='extra_runs',data=df)"
      ],
      "execution_count": 181,
      "outputs": [
        {
          "output_type": "display_data",
          "data": {
            "application/javascript": [
              "\n",
              "        if (window._pyforest_update_imports_cell) { window._pyforest_update_imports_cell('from sklearn.model_selection import cross_val_score\\nfrom statsmodels.tsa.arima_model import ARIMA\\nimport matplotlib.pyplot as plt\\nimport re\\nimport pandas as pd\\nfrom sklearn.feature_extraction.text import CountVectorizer\\nimport statsmodels.api as sm\\nfrom scipy import stats\\nimport imutils\\nimport sys\\nimport plotly.express as px\\nfrom sklearn import svm\\nimport cv2\\nimport pydot\\nfrom xlrd import open_workbook\\nimport skimage\\nimport sklearn\\nimport plotly as py\\nimport pickle\\nimport spacy\\nimport seaborn as sns\\nimport bokeh\\nimport xgboost as xgb\\nfrom scipy import signal as sg\\nimport dash\\nimport altair as alt\\nimport os\\nimport statistics'); }\n",
              "    "
            ],
            "text/plain": [
              "<IPython.core.display.Javascript object>"
            ]
          },
          "metadata": {}
        },
        {
          "output_type": "display_data",
          "data": {
            "application/javascript": [
              "\n",
              "        if (window._pyforest_update_imports_cell) { window._pyforest_update_imports_cell('from sklearn.model_selection import cross_val_score\\nfrom statsmodels.tsa.arima_model import ARIMA\\nimport matplotlib.pyplot as plt\\nimport re\\nimport pandas as pd\\nfrom sklearn.feature_extraction.text import CountVectorizer\\nimport statsmodels.api as sm\\nfrom scipy import stats\\nimport imutils\\nimport sys\\nimport plotly.express as px\\nfrom sklearn import svm\\nimport cv2\\nimport pydot\\nfrom xlrd import open_workbook\\nimport skimage\\nimport sklearn\\nimport plotly as py\\nimport pickle\\nimport spacy\\nimport seaborn as sns\\nimport bokeh\\nimport xgboost as xgb\\nfrom scipy import signal as sg\\nimport dash\\nimport altair as alt\\nimport os\\nimport statistics'); }\n",
              "    "
            ],
            "text/plain": [
              "<IPython.core.display.Javascript object>"
            ]
          },
          "metadata": {}
        },
        {
          "output_type": "display_data",
          "data": {
            "application/javascript": [
              "\n",
              "        if (window._pyforest_update_imports_cell) { window._pyforest_update_imports_cell('from sklearn.model_selection import cross_val_score\\nfrom statsmodels.tsa.arima_model import ARIMA\\nimport matplotlib.pyplot as plt\\nimport re\\nimport pandas as pd\\nfrom sklearn.feature_extraction.text import CountVectorizer\\nimport statsmodels.api as sm\\nfrom scipy import stats\\nimport imutils\\nimport sys\\nimport plotly.express as px\\nfrom sklearn import svm\\nimport cv2\\nimport pydot\\nfrom xlrd import open_workbook\\nimport skimage\\nimport sklearn\\nimport plotly as py\\nimport pickle\\nimport spacy\\nimport seaborn as sns\\nimport bokeh\\nimport xgboost as xgb\\nfrom scipy import signal as sg\\nimport dash\\nimport altair as alt\\nimport os\\nimport statistics'); }\n",
              "    "
            ],
            "text/plain": [
              "<IPython.core.display.Javascript object>"
            ]
          },
          "metadata": {}
        },
        {
          "output_type": "execute_result",
          "data": {
            "text/plain": [
              "<matplotlib.axes._subplots.AxesSubplot at 0x7fc39312e5d0>"
            ]
          },
          "metadata": {},
          "execution_count": 181
        },
        {
          "output_type": "display_data",
          "data": {
            "image/png": "[encoded data removed]",
            "text/plain": [
              "<Figure size 842.4x595.44 with 1 Axes>"
            ]
          },
          "metadata": {}
        }
      ]
    },
    {
      "cell_type": "code",
      "metadata": {
        "colab": {
          "base_uri": "https://localhost:8080/",
          "height": 537
        },
        "id": "vfE2U7EDRIFG",
        "outputId": "af60381a-8acc-4953-86a4-e577236fd98e"
      },
      "source": [
        " #countplot for bolwing team with respect to is_wicket columns\n",
        " sns.set_theme(style=\"darkgrid\")\n",
        " sns.set(rc={'figure.figsize':(11.7,8.27)})\n",
        " sns.countplot(x=\"bowling_team\",hue='is_wicket',data=df)"
      ],
      "execution_count": 215,
      "outputs": [
        {
          "output_type": "display_data",
          "data": {
            "application/javascript": [
              "\n",
              "        if (window._pyforest_update_imports_cell) { window._pyforest_update_imports_cell('import tqdm\\nimport fbprophet\\nfrom sklearn.model_selection import cross_val_score\\nimport textblob\\nfrom statsmodels.tsa.arima_model import ARIMA\\nimport matplotlib.pyplot as plt\\nimport re\\nimport pandas as pd\\nfrom sklearn.feature_extraction.text import CountVectorizer\\nimport statsmodels.api as sm\\nfrom scipy import stats\\nimport imutils\\nimport sys\\nimport plotly.express as px\\nfrom sklearn import svm\\nimport cv2\\nimport pydot\\nfrom xlrd import open_workbook\\nimport skimage\\nimport sklearn\\nimport plotly as py\\nimport pickle\\nimport spacy\\nimport seaborn as sns\\nimport bokeh\\nimport tensorflow as tf\\nimport xgboost as xgb\\nfrom scipy import signal as sg\\nimport numpy as np\\nimport dash\\nimport altair as alt\\nimport os\\nimport nltk\\nimport statistics\\nimport torch\\nfrom sklearn.model_selection import train_test_split\\nimport fastai'); }\n",
              "    "
            ],
            "text/plain": [
              "<IPython.core.display.Javascript object>"
            ]
          },
          "metadata": {}
        },
        {
          "output_type": "display_data",
          "data": {
            "application/javascript": [
              "\n",
              "        if (window._pyforest_update_imports_cell) { window._pyforest_update_imports_cell('import tqdm\\nimport fbprophet\\nfrom sklearn.model_selection import cross_val_score\\nimport textblob\\nfrom statsmodels.tsa.arima_model import ARIMA\\nimport matplotlib.pyplot as plt\\nimport re\\nimport pandas as pd\\nfrom sklearn.feature_extraction.text import CountVectorizer\\nimport statsmodels.api as sm\\nfrom scipy import stats\\nimport imutils\\nimport sys\\nimport plotly.express as px\\nfrom sklearn import svm\\nimport cv2\\nimport pydot\\nfrom xlrd import open_workbook\\nimport skimage\\nimport sklearn\\nimport plotly as py\\nimport pickle\\nimport spacy\\nimport seaborn as sns\\nimport bokeh\\nimport tensorflow as tf\\nimport xgboost as xgb\\nfrom scipy import signal as sg\\nimport numpy as np\\nimport dash\\nimport altair as alt\\nimport os\\nimport nltk\\nimport statistics\\nimport torch\\nfrom sklearn.model_selection import train_test_split\\nimport fastai'); }\n",
              "    "
            ],
            "text/plain": [
              "<IPython.core.display.Javascript object>"
            ]
          },
          "metadata": {}
        },
        {
          "output_type": "display_data",
          "data": {
            "application/javascript": [
              "\n",
              "        if (window._pyforest_update_imports_cell) { window._pyforest_update_imports_cell('import tqdm\\nimport fbprophet\\nfrom sklearn.model_selection import cross_val_score\\nimport textblob\\nfrom statsmodels.tsa.arima_model import ARIMA\\nimport matplotlib.pyplot as plt\\nimport re\\nimport pandas as pd\\nfrom sklearn.feature_extraction.text import CountVectorizer\\nimport statsmodels.api as sm\\nfrom scipy import stats\\nimport imutils\\nimport sys\\nimport plotly.express as px\\nfrom sklearn import svm\\nimport cv2\\nimport pydot\\nfrom xlrd import open_workbook\\nimport skimage\\nimport sklearn\\nimport plotly as py\\nimport pickle\\nimport spacy\\nimport seaborn as sns\\nimport bokeh\\nimport tensorflow as tf\\nimport xgboost as xgb\\nfrom scipy import signal as sg\\nimport numpy as np\\nimport dash\\nimport altair as alt\\nimport os\\nimport nltk\\nimport statistics\\nimport torch\\nfrom sklearn.model_selection import train_test_split\\nimport fastai'); }\n",
              "    "
            ],
            "text/plain": [
              "<IPython.core.display.Javascript object>"
            ]
          },
          "metadata": {}
        },
        {
          "output_type": "execute_result",
          "data": {
            "text/plain": [
              "<matplotlib.axes._subplots.AxesSubplot at 0x7fc2f01b0b90>"
            ]
          },
          "metadata": {},
          "execution_count": 215
        },
        {
          "output_type": "display_data",
          "data": {
            "image/png": "[encoded data removed]",
            "text/plain": [
              "<Figure size 842.4x595.44 with 1 Axes>"
            ]
          },
          "metadata": {}
        }
      ]
    },
    {
      "cell_type": "code",
      "metadata": {
        "colab": {
          "base_uri": "https://localhost:8080/",
          "height": 537
        },
        "id": "wr6a1eXlSLk7",
        "outputId": "58e2aea8-5522-455e-b72d-c4e823fb4a6a"
      },
      "source": [
        " countplot for batting team with respect to is_wicket columns\n",
        " sns.set_theme(style=\"darkgrid\")\n",
        " sns.set(rc={'figure.figsize':(11.7,8.27)})\n",
        " sns.countplot(x=\"batting_team\",hue='is_wicket',data=df)"
      ],
      "execution_count": 200,
      "outputs": [
        {
          "output_type": "display_data",
          "data": {
            "application/javascript": [
              "\n",
              "        if (window._pyforest_update_imports_cell) { window._pyforest_update_imports_cell('import fbprophet\\nfrom sklearn.model_selection import cross_val_score\\nfrom statsmodels.tsa.arima_model import ARIMA\\nimport matplotlib.pyplot as plt\\nimport re\\nimport pandas as pd\\nfrom sklearn.feature_extraction.text import CountVectorizer\\nimport statsmodels.api as sm\\nfrom scipy import stats\\nimport imutils\\nimport sys\\nimport plotly.express as px\\nfrom sklearn import svm\\nimport cv2\\nimport pydot\\nfrom xlrd import open_workbook\\nimport skimage\\nimport sklearn\\nimport plotly as py\\nimport pickle\\nimport spacy\\nimport seaborn as sns\\nimport bokeh\\nimport xgboost as xgb\\nfrom scipy import signal as sg\\nimport dash\\nimport altair as alt\\nimport os\\nimport statistics\\nimport fastai'); }\n",
              "    "
            ],
            "text/plain": [
              "<IPython.core.display.Javascript object>"
            ]
          },
          "metadata": {}
        },
        {
          "output_type": "display_data",
          "data": {
            "application/javascript": [
              "\n",
              "        if (window._pyforest_update_imports_cell) { window._pyforest_update_imports_cell('import fbprophet\\nfrom sklearn.model_selection import cross_val_score\\nfrom statsmodels.tsa.arima_model import ARIMA\\nimport matplotlib.pyplot as plt\\nimport re\\nimport pandas as pd\\nfrom sklearn.feature_extraction.text import CountVectorizer\\nimport statsmodels.api as sm\\nfrom scipy import stats\\nimport imutils\\nimport sys\\nimport plotly.express as px\\nfrom sklearn import svm\\nimport cv2\\nimport pydot\\nfrom xlrd import open_workbook\\nimport skimage\\nimport sklearn\\nimport plotly as py\\nimport pickle\\nimport spacy\\nimport seaborn as sns\\nimport bokeh\\nimport xgboost as xgb\\nfrom scipy import signal as sg\\nimport dash\\nimport altair as alt\\nimport os\\nimport statistics\\nimport fastai'); }\n",
              "    "
            ],
            "text/plain": [
              "<IPython.core.display.Javascript object>"
            ]
          },
          "metadata": {}
        },
        {
          "output_type": "display_data",
          "data": {
            "application/javascript": [
              "\n",
              "        if (window._pyforest_update_imports_cell) { window._pyforest_update_imports_cell('import fbprophet\\nfrom sklearn.model_selection import cross_val_score\\nfrom statsmodels.tsa.arima_model import ARIMA\\nimport matplotlib.pyplot as plt\\nimport re\\nimport pandas as pd\\nfrom sklearn.feature_extraction.text import CountVectorizer\\nimport statsmodels.api as sm\\nfrom scipy import stats\\nimport imutils\\nimport sys\\nimport plotly.express as px\\nfrom sklearn import svm\\nimport cv2\\nimport pydot\\nfrom xlrd import open_workbook\\nimport skimage\\nimport sklearn\\nimport plotly as py\\nimport pickle\\nimport spacy\\nimport seaborn as sns\\nimport bokeh\\nimport xgboost as xgb\\nfrom scipy import signal as sg\\nimport dash\\nimport altair as alt\\nimport os\\nimport statistics\\nimport fastai'); }\n",
              "    "
            ],
            "text/plain": [
              "<IPython.core.display.Javascript object>"
            ]
          },
          "metadata": {}
        },
        {
          "output_type": "execute_result",
          "data": {
            "text/plain": [
              "<matplotlib.axes._subplots.AxesSubplot at 0x7fc394ce7890>"
            ]
          },
          "metadata": {},
          "execution_count": 200
        },
        {
          "output_type": "display_data",
          "data": {
            "image/png": "[encoded data removed]",
            "text/plain": [
              "<Figure size 842.4x595.44 with 1 Axes>"
            ]
          },
          "metadata": {}
        }
      ]
    },
    {
      "cell_type": "markdown",
      "metadata": {
        "id": "GtI7VtnfboYV"
      },
      "source": [
        "This EDA will help in further processing."
      ]
    }
  ]
}