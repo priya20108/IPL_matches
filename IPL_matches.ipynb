{
  "nbformat": 4,
  "nbformat_minor": 0,
  "metadata": {
    "colab": {
      "name": "IPL_matches.ipynb",
      "provenance": [],
      "collapsed_sections": []
    },
    "kernelspec": {
      "display_name": "Python 3",
      "name": "python3"
    },
    "language_info": {
      "name": "python"
    }
  },
  "cells": [
    {
      "cell_type": "code",
      "metadata": {
        "id": "jnecILyGzrwG"
      },
      "source": [
        "pip install autoviz"
      ],
      "execution_count": null,
      "outputs": []
    },
    {
      "cell_type": "code",
      "metadata": {
        "colab": {
          "base_uri": "https://localhost:8080/"
        },
        "id": "y3OBTtGUzjko",
        "outputId": "1830783a-4dcf-44f4-e48f-970cece723d4"
      },
      "source": [
        "pip install pyforest"
      ],
      "execution_count": 271,
      "outputs": [
        {
          "output_type": "stream",
          "name": "stdout",
          "text": [
            "Requirement already satisfied: pyforest in /usr/local/lib/python3.7/dist-packages (1.1.0)\n"
          ]
        }
      ]
    },
    {
      "cell_type": "code",
      "metadata": {
        "colab": {
          "base_uri": "https://localhost:8080/",
          "height": 344
        },
        "id": "xm6uNvPhrxf3",
        "outputId": "27675563-4e2a-4af8-8375-b9afb92c1419"
      },
      "source": [
        "import pyforest\n",
        "import autoviz\n",
        "import warnings\n",
        "warnings.filterwarnings('ignore')\n",
        "\n",
        "#importing Autoviz class\n",
        "from autoviz.AutoViz_Class import AutoViz_Class#Instantiate the AutoViz class\n",
        "AV = AutoViz_Class()\n",
        "matches=pd.read_csv(\"/content/IPL Matches 2008-2020.csv\")\n",
        "matches.head()"
      ],
      "execution_count": 272,
      "outputs": [
        {
          "output_type": "display_data",
          "data": {
            "application/javascript": [
              "\n",
              "        if (window._pyforest_update_imports_cell) { window._pyforest_update_imports_cell('import bokeh\\nimport tensorflow as tf\\nfrom sklearn.feature_extraction.text import CountVectorizer\\nfrom sklearn import svm\\nimport skimage\\nimport numpy as np\\nimport matplotlib as mpl\\nimport tqdm\\nimport altair as alt\\nimport nltk\\nimport xgboost as xgb\\nimport statsmodels.api as sm\\nfrom scipy import signal as sg\\nimport textblob\\nimport sys\\nfrom sklearn.model_selection import cross_val_score\\nfrom statsmodels.tsa.arima_model import ARIMA\\nimport imutils\\nimport cv2\\nimport seaborn as sns\\nimport torch\\nfrom sklearn.model_selection import train_test_split\\nimport statistics\\nimport sklearn\\nimport re\\nimport spacy\\nimport pandas as pd\\nfrom sklearn import metrics'); }\n",
              "    "
            ],
            "text/plain": [
              "<IPython.core.display.Javascript object>"
            ]
          },
          "metadata": {}
        },
        {
          "output_type": "execute_result",
          "data": {
            "text/html": [
              "<div>\n",
              "<style scoped>\n",
              "    .dataframe tbody tr th:only-of-type {\n",
              "        vertical-align: middle;\n",
              "    }\n",
              "\n",
              "    .dataframe tbody tr th {\n",
              "        vertical-align: top;\n",
              "    }\n",
              "\n",
              "    .dataframe thead th {\n",
              "        text-align: right;\n",
              "    }\n",
              "</style>\n",
              "<table border=\"1\" class=\"dataframe\">\n",
              "  <thead>\n",
              "    <tr style=\"text-align: right;\">\n",
              "      <th></th>\n",
              "      <th>id</th>\n",
              "      <th>city</th>\n",
              "      <th>date</th>\n",
              "      <th>player_of_match</th>\n",
              "      <th>venue</th>\n",
              "      <th>neutral_venue</th>\n",
              "      <th>team1</th>\n",
              "      <th>team2</th>\n",
              "      <th>toss_winner</th>\n",
              "      <th>toss_decision</th>\n",
              "      <th>winner</th>\n",
              "      <th>result</th>\n",
              "      <th>result_margin</th>\n",
              "      <th>eliminator</th>\n",
              "      <th>method</th>\n",
              "      <th>umpire1</th>\n",
              "      <th>umpire2</th>\n",
              "    </tr>\n",
              "  </thead>\n",
              "  <tbody>\n",
              "    <tr>\n",
              "      <th>0</th>\n",
              "      <td>335982</td>\n",
              "      <td>Bangalore</td>\n",
              "      <td>2008-04-18</td>\n",
              "      <td>BB McCullum</td>\n",
              "      <td>M Chinnaswamy Stadium</td>\n",
              "      <td>0</td>\n",
              "      <td>Royal Challengers Bangalore</td>\n",
              "      <td>Kolkata Knight Riders</td>\n",
              "      <td>Royal Challengers Bangalore</td>\n",
              "      <td>field</td>\n",
              "      <td>Kolkata Knight Riders</td>\n",
              "      <td>runs</td>\n",
              "      <td>140.0</td>\n",
              "      <td>N</td>\n",
              "      <td>NaN</td>\n",
              "      <td>Asad Rauf</td>\n",
              "      <td>RE Koertzen</td>\n",
              "    </tr>\n",
              "    <tr>\n",
              "      <th>1</th>\n",
              "      <td>335983</td>\n",
              "      <td>Chandigarh</td>\n",
              "      <td>2008-04-19</td>\n",
              "      <td>MEK Hussey</td>\n",
              "      <td>Punjab Cricket Association Stadium, Mohali</td>\n",
              "      <td>0</td>\n",
              "      <td>Kings XI Punjab</td>\n",
              "      <td>Chennai Super Kings</td>\n",
              "      <td>Chennai Super Kings</td>\n",
              "      <td>bat</td>\n",
              "      <td>Chennai Super Kings</td>\n",
              "      <td>runs</td>\n",
              "      <td>33.0</td>\n",
              "      <td>N</td>\n",
              "      <td>NaN</td>\n",
              "      <td>MR Benson</td>\n",
              "      <td>SL Shastri</td>\n",
              "    </tr>\n",
              "    <tr>\n",
              "      <th>2</th>\n",
              "      <td>335984</td>\n",
              "      <td>Delhi</td>\n",
              "      <td>2008-04-19</td>\n",
              "      <td>MF Maharoof</td>\n",
              "      <td>Feroz Shah Kotla</td>\n",
              "      <td>0</td>\n",
              "      <td>Delhi Daredevils</td>\n",
              "      <td>Rajasthan Royals</td>\n",
              "      <td>Rajasthan Royals</td>\n",
              "      <td>bat</td>\n",
              "      <td>Delhi Daredevils</td>\n",
              "      <td>wickets</td>\n",
              "      <td>9.0</td>\n",
              "      <td>N</td>\n",
              "      <td>NaN</td>\n",
              "      <td>Aleem Dar</td>\n",
              "      <td>GA Pratapkumar</td>\n",
              "    </tr>\n",
              "    <tr>\n",
              "      <th>3</th>\n",
              "      <td>335985</td>\n",
              "      <td>Mumbai</td>\n",
              "      <td>2008-04-20</td>\n",
              "      <td>MV Boucher</td>\n",
              "      <td>Wankhede Stadium</td>\n",
              "      <td>0</td>\n",
              "      <td>Mumbai Indians</td>\n",
              "      <td>Royal Challengers Bangalore</td>\n",
              "      <td>Mumbai Indians</td>\n",
              "      <td>bat</td>\n",
              "      <td>Royal Challengers Bangalore</td>\n",
              "      <td>wickets</td>\n",
              "      <td>5.0</td>\n",
              "      <td>N</td>\n",
              "      <td>NaN</td>\n",
              "      <td>SJ Davis</td>\n",
              "      <td>DJ Harper</td>\n",
              "    </tr>\n",
              "    <tr>\n",
              "      <th>4</th>\n",
              "      <td>335986</td>\n",
              "      <td>Kolkata</td>\n",
              "      <td>2008-04-20</td>\n",
              "      <td>DJ Hussey</td>\n",
              "      <td>Eden Gardens</td>\n",
              "      <td>0</td>\n",
              "      <td>Kolkata Knight Riders</td>\n",
              "      <td>Deccan Chargers</td>\n",
              "      <td>Deccan Chargers</td>\n",
              "      <td>bat</td>\n",
              "      <td>Kolkata Knight Riders</td>\n",
              "      <td>wickets</td>\n",
              "      <td>5.0</td>\n",
              "      <td>N</td>\n",
              "      <td>NaN</td>\n",
              "      <td>BF Bowden</td>\n",
              "      <td>K Hariharan</td>\n",
              "    </tr>\n",
              "  </tbody>\n",
              "</table>\n",
              "</div>"
            ],
            "text/plain": [
              "       id        city        date  ... method    umpire1         umpire2\n",
              "0  335982   Bangalore  2008-04-18  ...    NaN  Asad Rauf     RE Koertzen\n",
              "1  335983  Chandigarh  2008-04-19  ...    NaN  MR Benson      SL Shastri\n",
              "2  335984       Delhi  2008-04-19  ...    NaN  Aleem Dar  GA Pratapkumar\n",
              "3  335985      Mumbai  2008-04-20  ...    NaN   SJ Davis       DJ Harper\n",
              "4  335986     Kolkata  2008-04-20  ...    NaN  BF Bowden     K Hariharan\n",
              "\n",
              "[5 rows x 17 columns]"
            ]
          },
          "metadata": {},
          "execution_count": 272
        }
      ]
    },
    {
      "cell_type": "code",
      "metadata": {
        "colab": {
          "base_uri": "https://localhost:8080/"
        },
        "id": "7f1HD1BGsiOk",
        "outputId": "879f1da5-2316-43c8-e59d-74c36aad5af6"
      },
      "source": [
        "matches.shape"
      ],
      "execution_count": 273,
      "outputs": [
        {
          "output_type": "execute_result",
          "data": {
            "text/plain": [
              "(816, 17)"
            ]
          },
          "metadata": {},
          "execution_count": 273
        }
      ]
    },
    {
      "cell_type": "code",
      "metadata": {
        "colab": {
          "base_uri": "https://localhost:8080/"
        },
        "id": "aC7zT0N8s5Jj",
        "outputId": "f04a78f7-17e8-409a-8c0e-5d7e57744390"
      },
      "source": [
        "matches.info() "
      ],
      "execution_count": 274,
      "outputs": [
        {
          "output_type": "stream",
          "name": "stdout",
          "text": [
            "<class 'pandas.core.frame.DataFrame'>\n",
            "RangeIndex: 816 entries, 0 to 815\n",
            "Data columns (total 17 columns):\n",
            " #   Column           Non-Null Count  Dtype  \n",
            "---  ------           --------------  -----  \n",
            " 0   id               816 non-null    int64  \n",
            " 1   city             803 non-null    object \n",
            " 2   date             816 non-null    object \n",
            " 3   player_of_match  812 non-null    object \n",
            " 4   venue            816 non-null    object \n",
            " 5   neutral_venue    816 non-null    int64  \n",
            " 6   team1            816 non-null    object \n",
            " 7   team2            816 non-null    object \n",
            " 8   toss_winner      816 non-null    object \n",
            " 9   toss_decision    816 non-null    object \n",
            " 10  winner           812 non-null    object \n",
            " 11  result           812 non-null    object \n",
            " 12  result_margin    799 non-null    float64\n",
            " 13  eliminator       812 non-null    object \n",
            " 14  method           19 non-null     object \n",
            " 15  umpire1          816 non-null    object \n",
            " 16  umpire2          816 non-null    object \n",
            "dtypes: float64(1), int64(2), object(14)\n",
            "memory usage: 108.5+ KB\n"
          ]
        }
      ]
    },
    {
      "cell_type": "markdown",
      "metadata": {
        "id": "CjpnWxSjxTvN"
      },
      "source": [
        "Since the date is not relevant and does not provide any additional insights for our analysis, we will drop this column.\n",
        "umpire1, umpire2,id,city,method,player_of_match can also be dropped for same reason"
      ]
    },
    {
      "cell_type": "code",
      "metadata": {
        "colab": {
          "base_uri": "https://localhost:8080/"
        },
        "id": "2POT8l62u1h2",
        "outputId": "ed5d82be-2bd2-45c0-ae43-b8806dddbbb2"
      },
      "source": [
        "matches[\"result\"].value_counts().groupby(by=matches['winner'])"
      ],
      "execution_count": 275,
      "outputs": [
        {
          "output_type": "execute_result",
          "data": {
            "text/plain": [
              "<pandas.core.groupby.generic.SeriesGroupBy object at 0x7f3d5f66a410>"
            ]
          },
          "metadata": {},
          "execution_count": 275
        }
      ]
    },
    {
      "cell_type": "code",
      "metadata": {
        "colab": {
          "base_uri": "https://localhost:8080/",
          "height": 380
        },
        "id": "46G5l8iCZPJm",
        "outputId": "21112e0c-bca8-4dde-a20f-215575b52192"
      },
      "source": [
        "matches[\"date_added\"] = pd.to_datetime(matches['date'])\n",
        "matches.head()"
      ],
      "execution_count": 276,
      "outputs": [
        {
          "output_type": "display_data",
          "data": {
            "application/javascript": [
              "\n",
              "        if (window._pyforest_update_imports_cell) { window._pyforest_update_imports_cell('import bokeh\\nimport tensorflow as tf\\nfrom sklearn.feature_extraction.text import CountVectorizer\\nfrom sklearn import svm\\nimport skimage\\nimport numpy as np\\nimport matplotlib as mpl\\nimport tqdm\\nimport altair as alt\\nimport nltk\\nimport xgboost as xgb\\nimport statsmodels.api as sm\\nfrom scipy import signal as sg\\nimport textblob\\nimport sys\\nfrom sklearn.model_selection import cross_val_score\\nfrom statsmodels.tsa.arima_model import ARIMA\\nimport imutils\\nimport cv2\\nimport seaborn as sns\\nimport torch\\nfrom sklearn.model_selection import train_test_split\\nimport statistics\\nimport sklearn\\nimport re\\nimport spacy\\nimport pandas as pd\\nfrom sklearn import metrics'); }\n",
              "    "
            ],
            "text/plain": [
              "<IPython.core.display.Javascript object>"
            ]
          },
          "metadata": {}
        },
        {
          "output_type": "execute_result",
          "data": {
            "text/html": [
              "<div>\n",
              "<style scoped>\n",
              "    .dataframe tbody tr th:only-of-type {\n",
              "        vertical-align: middle;\n",
              "    }\n",
              "\n",
              "    .dataframe tbody tr th {\n",
              "        vertical-align: top;\n",
              "    }\n",
              "\n",
              "    .dataframe thead th {\n",
              "        text-align: right;\n",
              "    }\n",
              "</style>\n",
              "<table border=\"1\" class=\"dataframe\">\n",
              "  <thead>\n",
              "    <tr style=\"text-align: right;\">\n",
              "      <th></th>\n",
              "      <th>id</th>\n",
              "      <th>city</th>\n",
              "      <th>date</th>\n",
              "      <th>player_of_match</th>\n",
              "      <th>venue</th>\n",
              "      <th>neutral_venue</th>\n",
              "      <th>team1</th>\n",
              "      <th>team2</th>\n",
              "      <th>toss_winner</th>\n",
              "      <th>toss_decision</th>\n",
              "      <th>winner</th>\n",
              "      <th>result</th>\n",
              "      <th>result_margin</th>\n",
              "      <th>eliminator</th>\n",
              "      <th>method</th>\n",
              "      <th>umpire1</th>\n",
              "      <th>umpire2</th>\n",
              "      <th>date_added</th>\n",
              "    </tr>\n",
              "  </thead>\n",
              "  <tbody>\n",
              "    <tr>\n",
              "      <th>0</th>\n",
              "      <td>335982</td>\n",
              "      <td>Bangalore</td>\n",
              "      <td>2008-04-18</td>\n",
              "      <td>BB McCullum</td>\n",
              "      <td>M Chinnaswamy Stadium</td>\n",
              "      <td>0</td>\n",
              "      <td>Royal Challengers Bangalore</td>\n",
              "      <td>Kolkata Knight Riders</td>\n",
              "      <td>Royal Challengers Bangalore</td>\n",
              "      <td>field</td>\n",
              "      <td>Kolkata Knight Riders</td>\n",
              "      <td>runs</td>\n",
              "      <td>140.0</td>\n",
              "      <td>N</td>\n",
              "      <td>NaN</td>\n",
              "      <td>Asad Rauf</td>\n",
              "      <td>RE Koertzen</td>\n",
              "      <td>2008-04-18</td>\n",
              "    </tr>\n",
              "    <tr>\n",
              "      <th>1</th>\n",
              "      <td>335983</td>\n",
              "      <td>Chandigarh</td>\n",
              "      <td>2008-04-19</td>\n",
              "      <td>MEK Hussey</td>\n",
              "      <td>Punjab Cricket Association Stadium, Mohali</td>\n",
              "      <td>0</td>\n",
              "      <td>Kings XI Punjab</td>\n",
              "      <td>Chennai Super Kings</td>\n",
              "      <td>Chennai Super Kings</td>\n",
              "      <td>bat</td>\n",
              "      <td>Chennai Super Kings</td>\n",
              "      <td>runs</td>\n",
              "      <td>33.0</td>\n",
              "      <td>N</td>\n",
              "      <td>NaN</td>\n",
              "      <td>MR Benson</td>\n",
              "      <td>SL Shastri</td>\n",
              "      <td>2008-04-19</td>\n",
              "    </tr>\n",
              "    <tr>\n",
              "      <th>2</th>\n",
              "      <td>335984</td>\n",
              "      <td>Delhi</td>\n",
              "      <td>2008-04-19</td>\n",
              "      <td>MF Maharoof</td>\n",
              "      <td>Feroz Shah Kotla</td>\n",
              "      <td>0</td>\n",
              "      <td>Delhi Daredevils</td>\n",
              "      <td>Rajasthan Royals</td>\n",
              "      <td>Rajasthan Royals</td>\n",
              "      <td>bat</td>\n",
              "      <td>Delhi Daredevils</td>\n",
              "      <td>wickets</td>\n",
              "      <td>9.0</td>\n",
              "      <td>N</td>\n",
              "      <td>NaN</td>\n",
              "      <td>Aleem Dar</td>\n",
              "      <td>GA Pratapkumar</td>\n",
              "      <td>2008-04-19</td>\n",
              "    </tr>\n",
              "    <tr>\n",
              "      <th>3</th>\n",
              "      <td>335985</td>\n",
              "      <td>Mumbai</td>\n",
              "      <td>2008-04-20</td>\n",
              "      <td>MV Boucher</td>\n",
              "      <td>Wankhede Stadium</td>\n",
              "      <td>0</td>\n",
              "      <td>Mumbai Indians</td>\n",
              "      <td>Royal Challengers Bangalore</td>\n",
              "      <td>Mumbai Indians</td>\n",
              "      <td>bat</td>\n",
              "      <td>Royal Challengers Bangalore</td>\n",
              "      <td>wickets</td>\n",
              "      <td>5.0</td>\n",
              "      <td>N</td>\n",
              "      <td>NaN</td>\n",
              "      <td>SJ Davis</td>\n",
              "      <td>DJ Harper</td>\n",
              "      <td>2008-04-20</td>\n",
              "    </tr>\n",
              "    <tr>\n",
              "      <th>4</th>\n",
              "      <td>335986</td>\n",
              "      <td>Kolkata</td>\n",
              "      <td>2008-04-20</td>\n",
              "      <td>DJ Hussey</td>\n",
              "      <td>Eden Gardens</td>\n",
              "      <td>0</td>\n",
              "      <td>Kolkata Knight Riders</td>\n",
              "      <td>Deccan Chargers</td>\n",
              "      <td>Deccan Chargers</td>\n",
              "      <td>bat</td>\n",
              "      <td>Kolkata Knight Riders</td>\n",
              "      <td>wickets</td>\n",
              "      <td>5.0</td>\n",
              "      <td>N</td>\n",
              "      <td>NaN</td>\n",
              "      <td>BF Bowden</td>\n",
              "      <td>K Hariharan</td>\n",
              "      <td>2008-04-20</td>\n",
              "    </tr>\n",
              "  </tbody>\n",
              "</table>\n",
              "</div>"
            ],
            "text/plain": [
              "       id        city        date  ...    umpire1         umpire2  date_added\n",
              "0  335982   Bangalore  2008-04-18  ...  Asad Rauf     RE Koertzen  2008-04-18\n",
              "1  335983  Chandigarh  2008-04-19  ...  MR Benson      SL Shastri  2008-04-19\n",
              "2  335984       Delhi  2008-04-19  ...  Aleem Dar  GA Pratapkumar  2008-04-19\n",
              "3  335985      Mumbai  2008-04-20  ...   SJ Davis       DJ Harper  2008-04-20\n",
              "4  335986     Kolkata  2008-04-20  ...  BF Bowden     K Hariharan  2008-04-20\n",
              "\n",
              "[5 rows x 18 columns]"
            ]
          },
          "metadata": {},
          "execution_count": 276
        }
      ]
    },
    {
      "cell_type": "code",
      "metadata": {
        "colab": {
          "base_uri": "https://localhost:8080/"
        },
        "id": "EfdQGDtk0tz6",
        "outputId": "5a0ed1b9-9106-464f-eb6e-b04997f46be8"
      },
      "source": [
        "print(\"\\n\\n All teams that participated in all IPL conducted till 2020:\", matches[\"team1\"].unique())"
      ],
      "execution_count": 277,
      "outputs": [
        {
          "output_type": "stream",
          "name": "stdout",
          "text": [
            "\n",
            "\n",
            " All teams that participated in all IPL conducted till 2020: ['Royal Challengers Bangalore' 'Kings XI Punjab' 'Delhi Daredevils'\n",
            " 'Mumbai Indians' 'Kolkata Knight Riders' 'Rajasthan Royals'\n",
            " 'Deccan Chargers' 'Chennai Super Kings' 'Kochi Tuskers Kerala'\n",
            " 'Pune Warriors' 'Sunrisers Hyderabad' 'Gujarat Lions'\n",
            " 'Rising Pune Supergiants' 'Rising Pune Supergiant' 'Delhi Capitals']\n"
          ]
        }
      ]
    },
    {
      "cell_type": "code",
      "metadata": {
        "id": "SFRwJTNPacEr",
        "colab": {
          "base_uri": "https://localhost:8080/",
          "height": 380
        },
        "outputId": "1e23ee7d-0bda-4e34-bab2-2b846fb8b3e8"
      },
      "source": [
        "matches.head()"
      ],
      "execution_count": 278,
      "outputs": [
        {
          "output_type": "execute_result",
          "data": {
            "text/html": [
              "<div>\n",
              "<style scoped>\n",
              "    .dataframe tbody tr th:only-of-type {\n",
              "        vertical-align: middle;\n",
              "    }\n",
              "\n",
              "    .dataframe tbody tr th {\n",
              "        vertical-align: top;\n",
              "    }\n",
              "\n",
              "    .dataframe thead th {\n",
              "        text-align: right;\n",
              "    }\n",
              "</style>\n",
              "<table border=\"1\" class=\"dataframe\">\n",
              "  <thead>\n",
              "    <tr style=\"text-align: right;\">\n",
              "      <th></th>\n",
              "      <th>id</th>\n",
              "      <th>city</th>\n",
              "      <th>date</th>\n",
              "      <th>player_of_match</th>\n",
              "      <th>venue</th>\n",
              "      <th>neutral_venue</th>\n",
              "      <th>team1</th>\n",
              "      <th>team2</th>\n",
              "      <th>toss_winner</th>\n",
              "      <th>toss_decision</th>\n",
              "      <th>winner</th>\n",
              "      <th>result</th>\n",
              "      <th>result_margin</th>\n",
              "      <th>eliminator</th>\n",
              "      <th>method</th>\n",
              "      <th>umpire1</th>\n",
              "      <th>umpire2</th>\n",
              "      <th>date_added</th>\n",
              "    </tr>\n",
              "  </thead>\n",
              "  <tbody>\n",
              "    <tr>\n",
              "      <th>0</th>\n",
              "      <td>335982</td>\n",
              "      <td>Bangalore</td>\n",
              "      <td>2008-04-18</td>\n",
              "      <td>BB McCullum</td>\n",
              "      <td>M Chinnaswamy Stadium</td>\n",
              "      <td>0</td>\n",
              "      <td>Royal Challengers Bangalore</td>\n",
              "      <td>Kolkata Knight Riders</td>\n",
              "      <td>Royal Challengers Bangalore</td>\n",
              "      <td>field</td>\n",
              "      <td>Kolkata Knight Riders</td>\n",
              "      <td>runs</td>\n",
              "      <td>140.0</td>\n",
              "      <td>N</td>\n",
              "      <td>NaN</td>\n",
              "      <td>Asad Rauf</td>\n",
              "      <td>RE Koertzen</td>\n",
              "      <td>2008-04-18</td>\n",
              "    </tr>\n",
              "    <tr>\n",
              "      <th>1</th>\n",
              "      <td>335983</td>\n",
              "      <td>Chandigarh</td>\n",
              "      <td>2008-04-19</td>\n",
              "      <td>MEK Hussey</td>\n",
              "      <td>Punjab Cricket Association Stadium, Mohali</td>\n",
              "      <td>0</td>\n",
              "      <td>Kings XI Punjab</td>\n",
              "      <td>Chennai Super Kings</td>\n",
              "      <td>Chennai Super Kings</td>\n",
              "      <td>bat</td>\n",
              "      <td>Chennai Super Kings</td>\n",
              "      <td>runs</td>\n",
              "      <td>33.0</td>\n",
              "      <td>N</td>\n",
              "      <td>NaN</td>\n",
              "      <td>MR Benson</td>\n",
              "      <td>SL Shastri</td>\n",
              "      <td>2008-04-19</td>\n",
              "    </tr>\n",
              "    <tr>\n",
              "      <th>2</th>\n",
              "      <td>335984</td>\n",
              "      <td>Delhi</td>\n",
              "      <td>2008-04-19</td>\n",
              "      <td>MF Maharoof</td>\n",
              "      <td>Feroz Shah Kotla</td>\n",
              "      <td>0</td>\n",
              "      <td>Delhi Daredevils</td>\n",
              "      <td>Rajasthan Royals</td>\n",
              "      <td>Rajasthan Royals</td>\n",
              "      <td>bat</td>\n",
              "      <td>Delhi Daredevils</td>\n",
              "      <td>wickets</td>\n",
              "      <td>9.0</td>\n",
              "      <td>N</td>\n",
              "      <td>NaN</td>\n",
              "      <td>Aleem Dar</td>\n",
              "      <td>GA Pratapkumar</td>\n",
              "      <td>2008-04-19</td>\n",
              "    </tr>\n",
              "    <tr>\n",
              "      <th>3</th>\n",
              "      <td>335985</td>\n",
              "      <td>Mumbai</td>\n",
              "      <td>2008-04-20</td>\n",
              "      <td>MV Boucher</td>\n",
              "      <td>Wankhede Stadium</td>\n",
              "      <td>0</td>\n",
              "      <td>Mumbai Indians</td>\n",
              "      <td>Royal Challengers Bangalore</td>\n",
              "      <td>Mumbai Indians</td>\n",
              "      <td>bat</td>\n",
              "      <td>Royal Challengers Bangalore</td>\n",
              "      <td>wickets</td>\n",
              "      <td>5.0</td>\n",
              "      <td>N</td>\n",
              "      <td>NaN</td>\n",
              "      <td>SJ Davis</td>\n",
              "      <td>DJ Harper</td>\n",
              "      <td>2008-04-20</td>\n",
              "    </tr>\n",
              "    <tr>\n",
              "      <th>4</th>\n",
              "      <td>335986</td>\n",
              "      <td>Kolkata</td>\n",
              "      <td>2008-04-20</td>\n",
              "      <td>DJ Hussey</td>\n",
              "      <td>Eden Gardens</td>\n",
              "      <td>0</td>\n",
              "      <td>Kolkata Knight Riders</td>\n",
              "      <td>Deccan Chargers</td>\n",
              "      <td>Deccan Chargers</td>\n",
              "      <td>bat</td>\n",
              "      <td>Kolkata Knight Riders</td>\n",
              "      <td>wickets</td>\n",
              "      <td>5.0</td>\n",
              "      <td>N</td>\n",
              "      <td>NaN</td>\n",
              "      <td>BF Bowden</td>\n",
              "      <td>K Hariharan</td>\n",
              "      <td>2008-04-20</td>\n",
              "    </tr>\n",
              "  </tbody>\n",
              "</table>\n",
              "</div>"
            ],
            "text/plain": [
              "       id        city        date  ...    umpire1         umpire2  date_added\n",
              "0  335982   Bangalore  2008-04-18  ...  Asad Rauf     RE Koertzen  2008-04-18\n",
              "1  335983  Chandigarh  2008-04-19  ...  MR Benson      SL Shastri  2008-04-19\n",
              "2  335984       Delhi  2008-04-19  ...  Aleem Dar  GA Pratapkumar  2008-04-19\n",
              "3  335985      Mumbai  2008-04-20  ...   SJ Davis       DJ Harper  2008-04-20\n",
              "4  335986     Kolkata  2008-04-20  ...  BF Bowden     K Hariharan  2008-04-20\n",
              "\n",
              "[5 rows x 18 columns]"
            ]
          },
          "metadata": {},
          "execution_count": 278
        }
      ]
    },
    {
      "cell_type": "code",
      "metadata": {
        "id": "iXnqp1lBZzM9",
        "colab": {
          "base_uri": "https://localhost:8080/",
          "height": 416
        },
        "outputId": "ab2f5a2d-2f71-46a9-8839-ab5a7a1d5448"
      },
      "source": [
        "matches['season'] = matches['date_added'].dt.year\n",
        "matches.head()"
      ],
      "execution_count": 279,
      "outputs": [
        {
          "output_type": "execute_result",
          "data": {
            "text/html": [
              "<div>\n",
              "<style scoped>\n",
              "    .dataframe tbody tr th:only-of-type {\n",
              "        vertical-align: middle;\n",
              "    }\n",
              "\n",
              "    .dataframe tbody tr th {\n",
              "        vertical-align: top;\n",
              "    }\n",
              "\n",
              "    .dataframe thead th {\n",
              "        text-align: right;\n",
              "    }\n",
              "</style>\n",
              "<table border=\"1\" class=\"dataframe\">\n",
              "  <thead>\n",
              "    <tr style=\"text-align: right;\">\n",
              "      <th></th>\n",
              "      <th>id</th>\n",
              "      <th>city</th>\n",
              "      <th>date</th>\n",
              "      <th>player_of_match</th>\n",
              "      <th>venue</th>\n",
              "      <th>neutral_venue</th>\n",
              "      <th>team1</th>\n",
              "      <th>team2</th>\n",
              "      <th>toss_winner</th>\n",
              "      <th>toss_decision</th>\n",
              "      <th>winner</th>\n",
              "      <th>result</th>\n",
              "      <th>result_margin</th>\n",
              "      <th>eliminator</th>\n",
              "      <th>method</th>\n",
              "      <th>umpire1</th>\n",
              "      <th>umpire2</th>\n",
              "      <th>date_added</th>\n",
              "      <th>season</th>\n",
              "    </tr>\n",
              "  </thead>\n",
              "  <tbody>\n",
              "    <tr>\n",
              "      <th>0</th>\n",
              "      <td>335982</td>\n",
              "      <td>Bangalore</td>\n",
              "      <td>2008-04-18</td>\n",
              "      <td>BB McCullum</td>\n",
              "      <td>M Chinnaswamy Stadium</td>\n",
              "      <td>0</td>\n",
              "      <td>Royal Challengers Bangalore</td>\n",
              "      <td>Kolkata Knight Riders</td>\n",
              "      <td>Royal Challengers Bangalore</td>\n",
              "      <td>field</td>\n",
              "      <td>Kolkata Knight Riders</td>\n",
              "      <td>runs</td>\n",
              "      <td>140.0</td>\n",
              "      <td>N</td>\n",
              "      <td>NaN</td>\n",
              "      <td>Asad Rauf</td>\n",
              "      <td>RE Koertzen</td>\n",
              "      <td>2008-04-18</td>\n",
              "      <td>2008</td>\n",
              "    </tr>\n",
              "    <tr>\n",
              "      <th>1</th>\n",
              "      <td>335983</td>\n",
              "      <td>Chandigarh</td>\n",
              "      <td>2008-04-19</td>\n",
              "      <td>MEK Hussey</td>\n",
              "      <td>Punjab Cricket Association Stadium, Mohali</td>\n",
              "      <td>0</td>\n",
              "      <td>Kings XI Punjab</td>\n",
              "      <td>Chennai Super Kings</td>\n",
              "      <td>Chennai Super Kings</td>\n",
              "      <td>bat</td>\n",
              "      <td>Chennai Super Kings</td>\n",
              "      <td>runs</td>\n",
              "      <td>33.0</td>\n",
              "      <td>N</td>\n",
              "      <td>NaN</td>\n",
              "      <td>MR Benson</td>\n",
              "      <td>SL Shastri</td>\n",
              "      <td>2008-04-19</td>\n",
              "      <td>2008</td>\n",
              "    </tr>\n",
              "    <tr>\n",
              "      <th>2</th>\n",
              "      <td>335984</td>\n",
              "      <td>Delhi</td>\n",
              "      <td>2008-04-19</td>\n",
              "      <td>MF Maharoof</td>\n",
              "      <td>Feroz Shah Kotla</td>\n",
              "      <td>0</td>\n",
              "      <td>Delhi Daredevils</td>\n",
              "      <td>Rajasthan Royals</td>\n",
              "      <td>Rajasthan Royals</td>\n",
              "      <td>bat</td>\n",
              "      <td>Delhi Daredevils</td>\n",
              "      <td>wickets</td>\n",
              "      <td>9.0</td>\n",
              "      <td>N</td>\n",
              "      <td>NaN</td>\n",
              "      <td>Aleem Dar</td>\n",
              "      <td>GA Pratapkumar</td>\n",
              "      <td>2008-04-19</td>\n",
              "      <td>2008</td>\n",
              "    </tr>\n",
              "    <tr>\n",
              "      <th>3</th>\n",
              "      <td>335985</td>\n",
              "      <td>Mumbai</td>\n",
              "      <td>2008-04-20</td>\n",
              "      <td>MV Boucher</td>\n",
              "      <td>Wankhede Stadium</td>\n",
              "      <td>0</td>\n",
              "      <td>Mumbai Indians</td>\n",
              "      <td>Royal Challengers Bangalore</td>\n",
              "      <td>Mumbai Indians</td>\n",
              "      <td>bat</td>\n",
              "      <td>Royal Challengers Bangalore</td>\n",
              "      <td>wickets</td>\n",
              "      <td>5.0</td>\n",
              "      <td>N</td>\n",
              "      <td>NaN</td>\n",
              "      <td>SJ Davis</td>\n",
              "      <td>DJ Harper</td>\n",
              "      <td>2008-04-20</td>\n",
              "      <td>2008</td>\n",
              "    </tr>\n",
              "    <tr>\n",
              "      <th>4</th>\n",
              "      <td>335986</td>\n",
              "      <td>Kolkata</td>\n",
              "      <td>2008-04-20</td>\n",
              "      <td>DJ Hussey</td>\n",
              "      <td>Eden Gardens</td>\n",
              "      <td>0</td>\n",
              "      <td>Kolkata Knight Riders</td>\n",
              "      <td>Deccan Chargers</td>\n",
              "      <td>Deccan Chargers</td>\n",
              "      <td>bat</td>\n",
              "      <td>Kolkata Knight Riders</td>\n",
              "      <td>wickets</td>\n",
              "      <td>5.0</td>\n",
              "      <td>N</td>\n",
              "      <td>NaN</td>\n",
              "      <td>BF Bowden</td>\n",
              "      <td>K Hariharan</td>\n",
              "      <td>2008-04-20</td>\n",
              "      <td>2008</td>\n",
              "    </tr>\n",
              "  </tbody>\n",
              "</table>\n",
              "</div>"
            ],
            "text/plain": [
              "       id        city        date  ...         umpire2 date_added  season\n",
              "0  335982   Bangalore  2008-04-18  ...     RE Koertzen 2008-04-18    2008\n",
              "1  335983  Chandigarh  2008-04-19  ...      SL Shastri 2008-04-19    2008\n",
              "2  335984       Delhi  2008-04-19  ...  GA Pratapkumar 2008-04-19    2008\n",
              "3  335985      Mumbai  2008-04-20  ...       DJ Harper 2008-04-20    2008\n",
              "4  335986     Kolkata  2008-04-20  ...     K Hariharan 2008-04-20    2008\n",
              "\n",
              "[5 rows x 19 columns]"
            ]
          },
          "metadata": {},
          "execution_count": 279
        }
      ]
    },
    {
      "cell_type": "code",
      "metadata": {
        "id": "pBhPtSX9hEbH"
      },
      "source": [
        "#Replacing the Full names by short names\n",
        "matches.replace(['Mumbai Indians','Kolkata Knight Riders','Royal Challengers Bangalore','Deccan Chargers','Chennai Super Kings',\n",
        "                 'Rajasthan Royals','Delhi Daredevils','Gujarat Lions','Kings XI Punjab','Delhi Capitals',\t\n",
        "                 'Sunrisers Hyderabad','Rising Pune Supergiants','Kochi Tuskers Kerala','Pune Warriors','Rising Pune Supergiant']\n",
        "                ,['MI','KKR','RCB','DC','CSK','RR','DD','GL','KXIP','DCA','SRH','RPS','KTK','PW','RPS'],inplace=True)"
      ],
      "execution_count": 280,
      "outputs": []
    },
    {
      "cell_type": "code",
      "metadata": {
        "id": "PShKwai2eilU",
        "colab": {
          "base_uri": "https://localhost:8080/"
        },
        "outputId": "b6554a51-0244-4030-c7ac-acda355b66d6"
      },
      "source": [
        "matches['season'].nunique()"
      ],
      "execution_count": 281,
      "outputs": [
        {
          "output_type": "execute_result",
          "data": {
            "text/plain": [
              "13"
            ]
          },
          "metadata": {},
          "execution_count": 281
        }
      ]
    },
    {
      "cell_type": "code",
      "metadata": {
        "id": "z1gohxZPev7w",
        "colab": {
          "base_uri": "https://localhost:8080/"
        },
        "outputId": "94b03f0c-b06a-4d28-daa0-4a51e14412e5"
      },
      "source": [
        "matches['season'].unique()"
      ],
      "execution_count": 282,
      "outputs": [
        {
          "output_type": "execute_result",
          "data": {
            "text/plain": [
              "array([2008, 2009, 2010, 2011, 2012, 2013, 2014, 2015, 2016, 2017, 2018,\n",
              "       2019, 2020])"
            ]
          },
          "metadata": {},
          "execution_count": 282
        }
      ]
    },
    {
      "cell_type": "code",
      "metadata": {
        "id": "d0Z_QEPJfEsS",
        "colab": {
          "base_uri": "https://localhost:8080/",
          "height": 541
        },
        "outputId": "9d87d8cf-c5c4-4ff8-94d6-ab8679f45a28"
      },
      "source": [
        "#number of matches per ipl season\n",
        "seasons.plot(kind=\"bar\", title=\"Number of matches per IPL seasons\", figsize=(12,8))"
      ],
      "execution_count": 283,
      "outputs": [
        {
          "output_type": "execute_result",
          "data": {
            "text/plain": [
              "<matplotlib.axes._subplots.AxesSubplot at 0x7f3d5f676350>"
            ]
          },
          "metadata": {},
          "execution_count": 283
        },
        {
          "output_type": "display_data",
          "data": {
            "image/png": "[encoded data removed]",
            "text/plain": [
              "<Figure size 864x576 with 1 Axes>"
            ]
          },
          "metadata": {
            "needs_background": "light"
          }
        }
      ]
    },
    {
      "cell_type": "code",
      "metadata": {
        "id": "ytaJGOIsgbPQ",
        "colab": {
          "base_uri": "https://localhost:8080/",
          "height": 456
        },
        "outputId": "4b0271b4-f1d9-4f63-99d2-db9e75ddda02"
      },
      "source": [
        "#List the winner of each season\n",
        "season_winner = matches.drop_duplicates(subset=['season'], keep='last')[['season','winner']]\n",
        "season_winner.sort_values(by=\"season\").reset_index(drop=True)"
      ],
      "execution_count": 284,
      "outputs": [
        {
          "output_type": "execute_result",
          "data": {
            "text/html": [
              "<div>\n",
              "<style scoped>\n",
              "    .dataframe tbody tr th:only-of-type {\n",
              "        vertical-align: middle;\n",
              "    }\n",
              "\n",
              "    .dataframe tbody tr th {\n",
              "        vertical-align: top;\n",
              "    }\n",
              "\n",
              "    .dataframe thead th {\n",
              "        text-align: right;\n",
              "    }\n",
              "</style>\n",
              "<table border=\"1\" class=\"dataframe\">\n",
              "  <thead>\n",
              "    <tr style=\"text-align: right;\">\n",
              "      <th></th>\n",
              "      <th>season</th>\n",
              "      <th>winner</th>\n",
              "    </tr>\n",
              "  </thead>\n",
              "  <tbody>\n",
              "    <tr>\n",
              "      <th>0</th>\n",
              "      <td>2008</td>\n",
              "      <td>RR</td>\n",
              "    </tr>\n",
              "    <tr>\n",
              "      <th>1</th>\n",
              "      <td>2009</td>\n",
              "      <td>DC</td>\n",
              "    </tr>\n",
              "    <tr>\n",
              "      <th>2</th>\n",
              "      <td>2010</td>\n",
              "      <td>CSK</td>\n",
              "    </tr>\n",
              "    <tr>\n",
              "      <th>3</th>\n",
              "      <td>2011</td>\n",
              "      <td>CSK</td>\n",
              "    </tr>\n",
              "    <tr>\n",
              "      <th>4</th>\n",
              "      <td>2012</td>\n",
              "      <td>KKR</td>\n",
              "    </tr>\n",
              "    <tr>\n",
              "      <th>5</th>\n",
              "      <td>2013</td>\n",
              "      <td>MI</td>\n",
              "    </tr>\n",
              "    <tr>\n",
              "      <th>6</th>\n",
              "      <td>2014</td>\n",
              "      <td>KKR</td>\n",
              "    </tr>\n",
              "    <tr>\n",
              "      <th>7</th>\n",
              "      <td>2015</td>\n",
              "      <td>MI</td>\n",
              "    </tr>\n",
              "    <tr>\n",
              "      <th>8</th>\n",
              "      <td>2016</td>\n",
              "      <td>SRH</td>\n",
              "    </tr>\n",
              "    <tr>\n",
              "      <th>9</th>\n",
              "      <td>2017</td>\n",
              "      <td>MI</td>\n",
              "    </tr>\n",
              "    <tr>\n",
              "      <th>10</th>\n",
              "      <td>2018</td>\n",
              "      <td>CSK</td>\n",
              "    </tr>\n",
              "    <tr>\n",
              "      <th>11</th>\n",
              "      <td>2019</td>\n",
              "      <td>MI</td>\n",
              "    </tr>\n",
              "    <tr>\n",
              "      <th>12</th>\n",
              "      <td>2020</td>\n",
              "      <td>MI</td>\n",
              "    </tr>\n",
              "  </tbody>\n",
              "</table>\n",
              "</div>"
            ],
            "text/plain": [
              "    season winner\n",
              "0     2008     RR\n",
              "1     2009     DC\n",
              "2     2010    CSK\n",
              "3     2011    CSK\n",
              "4     2012    KKR\n",
              "5     2013     MI\n",
              "6     2014    KKR\n",
              "7     2015     MI\n",
              "8     2016    SRH\n",
              "9     2017     MI\n",
              "10    2018    CSK\n",
              "11    2019     MI\n",
              "12    2020     MI"
            ]
          },
          "metadata": {},
          "execution_count": 284
        }
      ]
    },
    {
      "cell_type": "code",
      "metadata": {
        "id": "aSOnAVpXe6Vp",
        "colab": {
          "base_uri": "https://localhost:8080/",
          "height": 456
        },
        "outputId": "67772337-be2d-48c8-84b7-6f8a96fbd57a"
      },
      "source": [
        "# How many matches were played in each season\n",
        "seasons = matches['season'].value_counts().to_frame()\n",
        "seasons"
      ],
      "execution_count": 285,
      "outputs": [
        {
          "output_type": "execute_result",
          "data": {
            "text/html": [
              "<div>\n",
              "<style scoped>\n",
              "    .dataframe tbody tr th:only-of-type {\n",
              "        vertical-align: middle;\n",
              "    }\n",
              "\n",
              "    .dataframe tbody tr th {\n",
              "        vertical-align: top;\n",
              "    }\n",
              "\n",
              "    .dataframe thead th {\n",
              "        text-align: right;\n",
              "    }\n",
              "</style>\n",
              "<table border=\"1\" class=\"dataframe\">\n",
              "  <thead>\n",
              "    <tr style=\"text-align: right;\">\n",
              "      <th></th>\n",
              "      <th>season</th>\n",
              "    </tr>\n",
              "  </thead>\n",
              "  <tbody>\n",
              "    <tr>\n",
              "      <th>2013</th>\n",
              "      <td>76</td>\n",
              "    </tr>\n",
              "    <tr>\n",
              "      <th>2012</th>\n",
              "      <td>74</td>\n",
              "    </tr>\n",
              "    <tr>\n",
              "      <th>2011</th>\n",
              "      <td>73</td>\n",
              "    </tr>\n",
              "    <tr>\n",
              "      <th>2020</th>\n",
              "      <td>60</td>\n",
              "    </tr>\n",
              "    <tr>\n",
              "      <th>2019</th>\n",
              "      <td>60</td>\n",
              "    </tr>\n",
              "    <tr>\n",
              "      <th>2018</th>\n",
              "      <td>60</td>\n",
              "    </tr>\n",
              "    <tr>\n",
              "      <th>2016</th>\n",
              "      <td>60</td>\n",
              "    </tr>\n",
              "    <tr>\n",
              "      <th>2014</th>\n",
              "      <td>60</td>\n",
              "    </tr>\n",
              "    <tr>\n",
              "      <th>2010</th>\n",
              "      <td>60</td>\n",
              "    </tr>\n",
              "    <tr>\n",
              "      <th>2017</th>\n",
              "      <td>59</td>\n",
              "    </tr>\n",
              "    <tr>\n",
              "      <th>2015</th>\n",
              "      <td>59</td>\n",
              "    </tr>\n",
              "    <tr>\n",
              "      <th>2008</th>\n",
              "      <td>58</td>\n",
              "    </tr>\n",
              "    <tr>\n",
              "      <th>2009</th>\n",
              "      <td>57</td>\n",
              "    </tr>\n",
              "  </tbody>\n",
              "</table>\n",
              "</div>"
            ],
            "text/plain": [
              "      season\n",
              "2013      76\n",
              "2012      74\n",
              "2011      73\n",
              "2020      60\n",
              "2019      60\n",
              "2018      60\n",
              "2016      60\n",
              "2014      60\n",
              "2010      60\n",
              "2017      59\n",
              "2015      59\n",
              "2008      58\n",
              "2009      57"
            ]
          },
          "metadata": {},
          "execution_count": 285
        }
      ]
    },
    {
      "cell_type": "code",
      "metadata": {
        "colab": {
          "base_uri": "https://localhost:8080/",
          "height": 341
        },
        "id": "1pzcD3TW3IGX",
        "outputId": "82a07ed5-cd76-4a1e-926c-516269c7da4d"
      },
      "source": [
        "# Toss decision after winning the toss, Season-Wise\n",
        "ax = plt.axes()\n",
        "ax.set(facecolor = \"white\")\n",
        "sns.countplot(x='season', hue='toss_decision', data=matches,palette=\"gnuplot2\",saturation=1)\n",
        "plt.xticks(rotation=90,fontsize=10)\n",
        "plt.yticks(fontsize=10)\n",
        "plt.xlabel('\\n Season',fontsize=15)\n",
        "plt.ylabel('Count',fontsize=15)\n",
        "plt.title('Toss decision in different seasons',fontsize=15,fontweight=\"bold\")\n",
        "plt.show()"
      ],
      "execution_count": 291,
      "outputs": [
        {
          "output_type": "display_data",
          "data": {
            "application/javascript": [
              "\n",
              "        if (window._pyforest_update_imports_cell) { window._pyforest_update_imports_cell('import bokeh\\nimport tensorflow as tf\\nfrom sklearn.feature_extraction.text import CountVectorizer\\nfrom sklearn import svm\\nimport skimage\\nimport numpy as np\\nimport matplotlib as mpl\\nimport tqdm\\nimport altair as alt\\nimport nltk\\nimport xgboost as xgb\\nimport statsmodels.api as sm\\nfrom scipy import signal as sg\\nimport textblob\\nimport sys\\nfrom sklearn.model_selection import cross_val_score\\nfrom statsmodels.tsa.arima_model import ARIMA\\nimport imutils\\nimport cv2\\nimport seaborn as sns\\nimport matplotlib.pyplot as plt\\nimport torch\\nfrom sklearn.model_selection import train_test_split\\nimport statistics\\nimport sklearn\\nimport re\\nimport spacy\\nimport pandas as pd\\nfrom sklearn import metrics'); }\n",
              "    "
            ],
            "text/plain": [
              "<IPython.core.display.Javascript object>"
            ]
          },
          "metadata": {}
        },
        {
          "output_type": "display_data",
          "data": {
            "application/javascript": [
              "\n",
              "        if (window._pyforest_update_imports_cell) { window._pyforest_update_imports_cell('import bokeh\\nimport tensorflow as tf\\nfrom sklearn.feature_extraction.text import CountVectorizer\\nfrom sklearn import svm\\nimport skimage\\nimport numpy as np\\nimport matplotlib as mpl\\nimport tqdm\\nimport altair as alt\\nimport nltk\\nimport xgboost as xgb\\nimport statsmodels.api as sm\\nfrom scipy import signal as sg\\nimport textblob\\nimport sys\\nfrom sklearn.model_selection import cross_val_score\\nfrom statsmodels.tsa.arima_model import ARIMA\\nimport imutils\\nimport cv2\\nimport seaborn as sns\\nimport matplotlib.pyplot as plt\\nimport torch\\nfrom sklearn.model_selection import train_test_split\\nimport statistics\\nimport sklearn\\nimport re\\nimport spacy\\nimport pandas as pd\\nfrom sklearn import metrics'); }\n",
              "    "
            ],
            "text/plain": [
              "<IPython.core.display.Javascript object>"
            ]
          },
          "metadata": {}
        },
        {
          "output_type": "display_data",
          "data": {
            "application/javascript": [
              "\n",
              "        if (window._pyforest_update_imports_cell) { window._pyforest_update_imports_cell('import bokeh\\nimport tensorflow as tf\\nfrom sklearn.feature_extraction.text import CountVectorizer\\nfrom sklearn import svm\\nimport skimage\\nimport numpy as np\\nimport matplotlib as mpl\\nimport tqdm\\nimport altair as alt\\nimport nltk\\nimport xgboost as xgb\\nimport statsmodels.api as sm\\nfrom scipy import signal as sg\\nimport textblob\\nimport sys\\nfrom sklearn.model_selection import cross_val_score\\nfrom statsmodels.tsa.arima_model import ARIMA\\nimport imutils\\nimport cv2\\nimport seaborn as sns\\nimport matplotlib.pyplot as plt\\nimport torch\\nfrom sklearn.model_selection import train_test_split\\nimport statistics\\nimport sklearn\\nimport re\\nimport spacy\\nimport pandas as pd\\nfrom sklearn import metrics'); }\n",
              "    "
            ],
            "text/plain": [
              "<IPython.core.display.Javascript object>"
            ]
          },
          "metadata": {}
        },
        {
          "output_type": "display_data",
          "data": {
            "application/javascript": [
              "\n",
              "        if (window._pyforest_update_imports_cell) { window._pyforest_update_imports_cell('import bokeh\\nimport tensorflow as tf\\nfrom sklearn.feature_extraction.text import CountVectorizer\\nfrom sklearn import svm\\nimport skimage\\nimport numpy as np\\nimport matplotlib as mpl\\nimport tqdm\\nimport altair as alt\\nimport nltk\\nimport xgboost as xgb\\nimport statsmodels.api as sm\\nfrom scipy import signal as sg\\nimport textblob\\nimport sys\\nfrom sklearn.model_selection import cross_val_score\\nfrom statsmodels.tsa.arima_model import ARIMA\\nimport imutils\\nimport cv2\\nimport seaborn as sns\\nimport matplotlib.pyplot as plt\\nimport torch\\nfrom sklearn.model_selection import train_test_split\\nimport statistics\\nimport sklearn\\nimport re\\nimport spacy\\nimport pandas as pd\\nfrom sklearn import metrics'); }\n",
              "    "
            ],
            "text/plain": [
              "<IPython.core.display.Javascript object>"
            ]
          },
          "metadata": {}
        },
        {
          "output_type": "display_data",
          "data": {
            "application/javascript": [
              "\n",
              "        if (window._pyforest_update_imports_cell) { window._pyforest_update_imports_cell('import bokeh\\nimport tensorflow as tf\\nfrom sklearn.feature_extraction.text import CountVectorizer\\nfrom sklearn import svm\\nimport skimage\\nimport numpy as np\\nimport matplotlib as mpl\\nimport tqdm\\nimport altair as alt\\nimport nltk\\nimport xgboost as xgb\\nimport statsmodels.api as sm\\nfrom scipy import signal as sg\\nimport textblob\\nimport sys\\nfrom sklearn.model_selection import cross_val_score\\nfrom statsmodels.tsa.arima_model import ARIMA\\nimport imutils\\nimport cv2\\nimport seaborn as sns\\nimport matplotlib.pyplot as plt\\nimport torch\\nfrom sklearn.model_selection import train_test_split\\nimport statistics\\nimport sklearn\\nimport re\\nimport spacy\\nimport pandas as pd\\nfrom sklearn import metrics'); }\n",
              "    "
            ],
            "text/plain": [
              "<IPython.core.display.Javascript object>"
            ]
          },
          "metadata": {}
        },
        {
          "output_type": "display_data",
          "data": {
            "application/javascript": [
              "\n",
              "        if (window._pyforest_update_imports_cell) { window._pyforest_update_imports_cell('import bokeh\\nimport tensorflow as tf\\nfrom sklearn.feature_extraction.text import CountVectorizer\\nfrom sklearn import svm\\nimport skimage\\nimport numpy as np\\nimport matplotlib as mpl\\nimport tqdm\\nimport altair as alt\\nimport nltk\\nimport xgboost as xgb\\nimport statsmodels.api as sm\\nfrom scipy import signal as sg\\nimport textblob\\nimport sys\\nfrom sklearn.model_selection import cross_val_score\\nfrom statsmodels.tsa.arima_model import ARIMA\\nimport imutils\\nimport cv2\\nimport seaborn as sns\\nimport matplotlib.pyplot as plt\\nimport torch\\nfrom sklearn.model_selection import train_test_split\\nimport statistics\\nimport sklearn\\nimport re\\nimport spacy\\nimport pandas as pd\\nfrom sklearn import metrics'); }\n",
              "    "
            ],
            "text/plain": [
              "<IPython.core.display.Javascript object>"
            ]
          },
          "metadata": {}
        },
        {
          "output_type": "display_data",
          "data": {
            "application/javascript": [
              "\n",
              "        if (window._pyforest_update_imports_cell) { window._pyforest_update_imports_cell('import bokeh\\nimport tensorflow as tf\\nfrom sklearn.feature_extraction.text import CountVectorizer\\nfrom sklearn import svm\\nimport skimage\\nimport numpy as np\\nimport matplotlib as mpl\\nimport tqdm\\nimport altair as alt\\nimport nltk\\nimport xgboost as xgb\\nimport statsmodels.api as sm\\nfrom scipy import signal as sg\\nimport textblob\\nimport sys\\nfrom sklearn.model_selection import cross_val_score\\nfrom statsmodels.tsa.arima_model import ARIMA\\nimport imutils\\nimport cv2\\nimport seaborn as sns\\nimport matplotlib.pyplot as plt\\nimport torch\\nfrom sklearn.model_selection import train_test_split\\nimport statistics\\nimport sklearn\\nimport re\\nimport spacy\\nimport pandas as pd\\nfrom sklearn import metrics'); }\n",
              "    "
            ],
            "text/plain": [
              "<IPython.core.display.Javascript object>"
            ]
          },
          "metadata": {}
        },
        {
          "output_type": "display_data",
          "data": {
            "application/javascript": [
              "\n",
              "        if (window._pyforest_update_imports_cell) { window._pyforest_update_imports_cell('import bokeh\\nimport tensorflow as tf\\nfrom sklearn.feature_extraction.text import CountVectorizer\\nfrom sklearn import svm\\nimport skimage\\nimport numpy as np\\nimport matplotlib as mpl\\nimport tqdm\\nimport altair as alt\\nimport nltk\\nimport xgboost as xgb\\nimport statsmodels.api as sm\\nfrom scipy import signal as sg\\nimport textblob\\nimport sys\\nfrom sklearn.model_selection import cross_val_score\\nfrom statsmodels.tsa.arima_model import ARIMA\\nimport imutils\\nimport cv2\\nimport seaborn as sns\\nimport matplotlib.pyplot as plt\\nimport torch\\nfrom sklearn.model_selection import train_test_split\\nimport statistics\\nimport sklearn\\nimport re\\nimport spacy\\nimport pandas as pd\\nfrom sklearn import metrics'); }\n",
              "    "
            ],
            "text/plain": [
              "<IPython.core.display.Javascript object>"
            ]
          },
          "metadata": {}
        },
        {
          "output_type": "display_data",
          "data": {
            "image/png": "[encoded data removed]",
            "text/plain": [
              "<Figure size 432x288 with 1 Axes>"
            ]
          },
          "metadata": {
            "needs_background": "light"
          }
        }
      ]
    },
    {
      "cell_type": "code",
      "metadata": {
        "colab": {
          "base_uri": "https://localhost:8080/",
          "height": 72
        },
        "id": "qAUVLDN84Tos",
        "outputId": "0c17cd58-5aa8-438e-8fbc-38470404eeb1"
      },
      "source": [
        "# Win number after winning the Toss\n",
        "matches['toss_win_game_win'] = np.where((matches.toss_winner == matches.winner),'Yes','No')\n",
        "matches['toss_win_game_win'].value_counts()"
      ],
      "execution_count": 293,
      "outputs": [
        {
          "output_type": "display_data",
          "data": {
            "application/javascript": [
              "\n",
              "        if (window._pyforest_update_imports_cell) { window._pyforest_update_imports_cell('import bokeh\\nimport tensorflow as tf\\nfrom sklearn.feature_extraction.text import CountVectorizer\\nfrom sklearn import svm\\nimport skimage\\nimport numpy as np\\nimport matplotlib as mpl\\nimport tqdm\\nimport altair as alt\\nimport nltk\\nimport xgboost as xgb\\nimport statsmodels.api as sm\\nfrom scipy import signal as sg\\nimport textblob\\nimport sys\\nfrom sklearn.model_selection import cross_val_score\\nfrom statsmodels.tsa.arima_model import ARIMA\\nimport imutils\\nimport cv2\\nimport seaborn as sns\\nimport matplotlib.pyplot as plt\\nimport torch\\nfrom sklearn.model_selection import train_test_split\\nimport statistics\\nimport sklearn\\nimport re\\nimport spacy\\nimport pandas as pd\\nfrom sklearn import metrics'); }\n",
              "    "
            ],
            "text/plain": [
              "<IPython.core.display.Javascript object>"
            ]
          },
          "metadata": {}
        },
        {
          "output_type": "execute_result",
          "data": {
            "text/plain": [
              "Yes    418\n",
              "No     398\n",
              "Name: toss_win_game_win, dtype: int64"
            ]
          },
          "metadata": {},
          "execution_count": 293
        }
      ]
    },
    {
      "cell_type": "code",
      "metadata": {
        "colab": {
          "base_uri": "https://localhost:8080/"
        },
        "id": "YdjGUNQc42yP",
        "outputId": "6191cef8-e647-4594-eb5c-3505a956a379"
      },
      "source": [
        "# Win number according for the team batting first and team batting second\n",
        "matches['result'].value_counts()\n"
      ],
      "execution_count": 294,
      "outputs": [
        {
          "output_type": "execute_result",
          "data": {
            "text/plain": [
              "wickets    435\n",
              "runs       364\n",
              "tie         13\n",
              "Name: result, dtype: int64"
            ]
          },
          "metadata": {},
          "execution_count": 294
        }
      ]
    },
    {
      "cell_type": "markdown",
      "metadata": {
        "id": "DXWXfLb45E0j"
      },
      "source": [
        " times team batting second won while 364 times team batting first won in IPL 13 matches ended up in a tie"
      ]
    },
    {
      "cell_type": "code",
      "metadata": {
        "colab": {
          "base_uri": "https://localhost:8080/",
          "height": 404
        },
        "id": "PMN516rL1K3K",
        "outputId": "3afb0df3-6d78-404f-e42a-37262cbf44cf"
      },
      "source": [
        "feature umpire1 and umpire 2\n",
        "ump=pd.concat([matches['umpire1'],matches['umpire2']])\n",
        "ump=ump.value_counts()\n",
        "ump.head(20)"
      ],
      "execution_count": 287,
      "outputs": [
        {
          "output_type": "display_data",
          "data": {
            "application/javascript": [
              "\n",
              "        if (window._pyforest_update_imports_cell) { window._pyforest_update_imports_cell('import bokeh\\nimport tensorflow as tf\\nfrom sklearn.feature_extraction.text import CountVectorizer\\nfrom sklearn import svm\\nimport skimage\\nimport numpy as np\\nimport matplotlib as mpl\\nimport tqdm\\nimport altair as alt\\nimport nltk\\nimport xgboost as xgb\\nimport statsmodels.api as sm\\nfrom scipy import signal as sg\\nimport textblob\\nimport sys\\nfrom sklearn.model_selection import cross_val_score\\nfrom statsmodels.tsa.arima_model import ARIMA\\nimport imutils\\nimport cv2\\nimport seaborn as sns\\nimport torch\\nfrom sklearn.model_selection import train_test_split\\nimport statistics\\nimport sklearn\\nimport re\\nimport spacy\\nimport pandas as pd\\nfrom sklearn import metrics'); }\n",
              "    "
            ],
            "text/plain": [
              "<IPython.core.display.Javascript object>"
            ]
          },
          "metadata": {}
        },
        {
          "output_type": "execute_result",
          "data": {
            "text/plain": [
              "S Ravi                   121\n",
              "HDPK Dharmasena           94\n",
              "AK Chaudhary              87\n",
              "C Shamshuddin             82\n",
              "M Erasmus                 65\n",
              "CK Nandan                 57\n",
              "Nitin Menon               57\n",
              "SJA Taufel                55\n",
              "Asad Rauf                 51\n",
              "VA Kulkarni               50\n",
              "BNJ Oxenford              48\n",
              "CB Gaffaney               47\n",
              "RJ Tucker                 46\n",
              "BR Doctrove               42\n",
              "RE Koertzen               41\n",
              "Aleem Dar                 38\n",
              "BF Bowden                 37\n",
              "NJ Llong                  37\n",
              "KN Ananthapadmanabhan     33\n",
              "RK Illingworth            31\n",
              "dtype: int64"
            ]
          },
          "metadata": {},
          "execution_count": 287
        }
      ]
    },
    {
      "cell_type": "markdown",
      "metadata": {
        "id": "YKMzMKWvyT4q"
      },
      "source": [
        "Replacing the Full names with short names for ease of access"
      ]
    },
    {
      "cell_type": "code",
      "metadata": {
        "id": "tuaQZ4xOhaeO",
        "colab": {
          "base_uri": "https://localhost:8080/",
          "height": 247
        },
        "outputId": "ad0304ef-3247-4792-f15e-d339a302e4a3"
      },
      "source": [
        "# Has Toss-winning helped in winning matches?\n",
        "wins = matches[\"toss_winner\"] == matches[\"winner\"]\n",
        "ax = wins.value_counts().plot(kind=\"pie\", autopct='%1.1f%%', shadow=True)"
      ],
      "execution_count": 295,
      "outputs": [
        {
          "output_type": "display_data",
          "data": {
            "image/png": "[encoded data removed]",
            "text/plain": [
              "<Figure size 432x288 with 1 Axes>"
            ]
          },
          "metadata": {}
        }
      ]
    },
    {
      "cell_type": "markdown",
      "metadata": {
        "id": "NPjRZhvNh1lX"
      },
      "source": [
        "This piechart shows that winning toss actually helped to win the match as well by 51.3%"
      ]
    },
    {
      "cell_type": "code",
      "metadata": {
        "id": "cNYzUG-ti-wk",
        "colab": {
          "base_uri": "https://localhost:8080/",
          "height": 520
        },
        "outputId": "309eb633-c253-4104-ae9b-61cda509687a"
      },
      "source": [
        "# toss and match wins by toss_winner\n",
        "toss_winner_as_winner = matches[matches['winner'] == matches['toss_winner']].groupby(['toss_winner'])['winner'].count()\n",
        "# total toss wins by toss_winner\n",
        "total_toss_winner = matches.groupby(['toss_winner'])['winner'].count()\n",
        "win_per_on_toss_win = toss_winner_as_winner / total_toss_winner * 100\n",
        "win_per_on_toss_win = win_per_on_toss_win.to_frame()\n",
        "win_per_on_toss_win['lost_per_on_toss_win'] = 100 - win_per_on_toss_win['winner']\n",
        "win_per_on_toss_win.rename(columns={'winner': 'win_per_on_toss_win'}, inplace=True)\n",
        "win_per_on_toss_win.round(2).sort_values(by=\"win_per_on_toss_win\", ascending=False)"
      ],
      "execution_count": 296,
      "outputs": [
        {
          "output_type": "execute_result",
          "data": {
            "text/html": [
              "<div>\n",
              "<style scoped>\n",
              "    .dataframe tbody tr th:only-of-type {\n",
              "        vertical-align: middle;\n",
              "    }\n",
              "\n",
              "    .dataframe tbody tr th {\n",
              "        vertical-align: top;\n",
              "    }\n",
              "\n",
              "    .dataframe thead th {\n",
              "        text-align: right;\n",
              "    }\n",
              "</style>\n",
              "<table border=\"1\" class=\"dataframe\">\n",
              "  <thead>\n",
              "    <tr style=\"text-align: right;\">\n",
              "      <th></th>\n",
              "      <th>win_per_on_toss_win</th>\n",
              "      <th>lost_per_on_toss_win</th>\n",
              "    </tr>\n",
              "    <tr>\n",
              "      <th>toss_winner</th>\n",
              "      <th></th>\n",
              "      <th></th>\n",
              "    </tr>\n",
              "  </thead>\n",
              "  <tbody>\n",
              "    <tr>\n",
              "      <th>GL</th>\n",
              "      <td>66.67</td>\n",
              "      <td>33.33</td>\n",
              "    </tr>\n",
              "    <tr>\n",
              "      <th>CSK</th>\n",
              "      <td>62.89</td>\n",
              "      <td>37.11</td>\n",
              "    </tr>\n",
              "    <tr>\n",
              "      <th>RPS</th>\n",
              "      <td>61.54</td>\n",
              "      <td>38.46</td>\n",
              "    </tr>\n",
              "    <tr>\n",
              "      <th>MI</th>\n",
              "      <td>57.55</td>\n",
              "      <td>42.45</td>\n",
              "    </tr>\n",
              "    <tr>\n",
              "      <th>KKR</th>\n",
              "      <td>56.12</td>\n",
              "      <td>43.88</td>\n",
              "    </tr>\n",
              "    <tr>\n",
              "      <th>RR</th>\n",
              "      <td>51.76</td>\n",
              "      <td>48.24</td>\n",
              "    </tr>\n",
              "    <tr>\n",
              "      <th>SRH</th>\n",
              "      <td>50.88</td>\n",
              "      <td>49.12</td>\n",
              "    </tr>\n",
              "    <tr>\n",
              "      <th>DCA</th>\n",
              "      <td>50.00</td>\n",
              "      <td>50.00</td>\n",
              "    </tr>\n",
              "    <tr>\n",
              "      <th>KTK</th>\n",
              "      <td>50.00</td>\n",
              "      <td>50.00</td>\n",
              "    </tr>\n",
              "    <tr>\n",
              "      <th>RCB</th>\n",
              "      <td>50.00</td>\n",
              "      <td>50.00</td>\n",
              "    </tr>\n",
              "    <tr>\n",
              "      <th>DD</th>\n",
              "      <td>44.30</td>\n",
              "      <td>55.70</td>\n",
              "    </tr>\n",
              "    <tr>\n",
              "      <th>DC</th>\n",
              "      <td>44.19</td>\n",
              "      <td>55.81</td>\n",
              "    </tr>\n",
              "    <tr>\n",
              "      <th>KXIP</th>\n",
              "      <td>42.35</td>\n",
              "      <td>57.65</td>\n",
              "    </tr>\n",
              "    <tr>\n",
              "      <th>PW</th>\n",
              "      <td>15.00</td>\n",
              "      <td>85.00</td>\n",
              "    </tr>\n",
              "  </tbody>\n",
              "</table>\n",
              "</div>"
            ],
            "text/plain": [
              "             win_per_on_toss_win  lost_per_on_toss_win\n",
              "toss_winner                                           \n",
              "GL                         66.67                 33.33\n",
              "CSK                        62.89                 37.11\n",
              "RPS                        61.54                 38.46\n",
              "MI                         57.55                 42.45\n",
              "KKR                        56.12                 43.88\n",
              "RR                         51.76                 48.24\n",
              "SRH                        50.88                 49.12\n",
              "DCA                        50.00                 50.00\n",
              "KTK                        50.00                 50.00\n",
              "RCB                        50.00                 50.00\n",
              "DD                         44.30                 55.70\n",
              "DC                         44.19                 55.81\n",
              "KXIP                       42.35                 57.65\n",
              "PW                         15.00                 85.00"
            ]
          },
          "metadata": {},
          "execution_count": 296
        }
      ]
    },
    {
      "cell_type": "markdown",
      "metadata": {
        "id": "x0N35chJkouQ"
      },
      "source": [
        "Mumbai Indians won only 55.56% of the matches in which they won the toss"
      ]
    },
    {
      "cell_type": "code",
      "metadata": {
        "id": "gqbOiH2HkP4g",
        "colab": {
          "base_uri": "https://localhost:8080/",
          "height": 560
        },
        "outputId": "93e4b09d-1e2c-4966-cd5c-61aed8166f6e"
      },
      "source": [
        "#winning or lossin per toss\n",
        "win_per_on_toss_win.plot.bar(figsize=(19,8), title=\"Match Winning/Losing % of a team on winning the toss\",fontsize=13,\n",
        " cmap='viridis')"
      ],
      "execution_count": 297,
      "outputs": [
        {
          "output_type": "execute_result",
          "data": {
            "text/plain": [
              "<matplotlib.axes._subplots.AxesSubplot at 0x7f3d5f34fc50>"
            ]
          },
          "metadata": {},
          "execution_count": 297
        },
        {
          "output_type": "display_data",
          "data": {
            "image/png": "[encoded data removed]",
            "text/plain": [
              "<Figure size 1368x576 with 1 Axes>"
            ]
          },
          "metadata": {
            "needs_background": "light"
          }
        }
      ]
    },
    {
      "cell_type": "code",
      "metadata": {
        "id": "5n6ZL5f12u0e",
        "colab": {
          "base_uri": "https://localhost:8080/",
          "height": 1000
        },
        "outputId": "ec533d03-fd1b-4fa5-c3ed-649aff561854"
      },
      "source": [
        "#number of matches with respect to venue\n",
        "no_of_matches = matches['venue'].value_counts().to_frame()\n",
        "no_of_matches.rename(columns={'venue': 'no_of_matches'}, inplace=True)\n",
        "no_of_matches"
      ],
      "execution_count": 298,
      "outputs": [
        {
          "output_type": "execute_result",
          "data": {
            "text/html": [
              "<div>\n",
              "<style scoped>\n",
              "    .dataframe tbody tr th:only-of-type {\n",
              "        vertical-align: middle;\n",
              "    }\n",
              "\n",
              "    .dataframe tbody tr th {\n",
              "        vertical-align: top;\n",
              "    }\n",
              "\n",
              "    .dataframe thead th {\n",
              "        text-align: right;\n",
              "    }\n",
              "</style>\n",
              "<table border=\"1\" class=\"dataframe\">\n",
              "  <thead>\n",
              "    <tr style=\"text-align: right;\">\n",
              "      <th></th>\n",
              "      <th>no_of_matches</th>\n",
              "    </tr>\n",
              "  </thead>\n",
              "  <tbody>\n",
              "    <tr>\n",
              "      <th>Eden Gardens</th>\n",
              "      <td>77</td>\n",
              "    </tr>\n",
              "    <tr>\n",
              "      <th>Feroz Shah Kotla</th>\n",
              "      <td>74</td>\n",
              "    </tr>\n",
              "    <tr>\n",
              "      <th>Wankhede Stadium</th>\n",
              "      <td>73</td>\n",
              "    </tr>\n",
              "    <tr>\n",
              "      <th>M Chinnaswamy Stadium</th>\n",
              "      <td>65</td>\n",
              "    </tr>\n",
              "    <tr>\n",
              "      <th>Rajiv Gandhi International Stadium, Uppal</th>\n",
              "      <td>64</td>\n",
              "    </tr>\n",
              "    <tr>\n",
              "      <th>MA Chidambaram Stadium, Chepauk</th>\n",
              "      <td>57</td>\n",
              "    </tr>\n",
              "    <tr>\n",
              "      <th>Sawai Mansingh Stadium</th>\n",
              "      <td>47</td>\n",
              "    </tr>\n",
              "    <tr>\n",
              "      <th>Punjab Cricket Association Stadium, Mohali</th>\n",
              "      <td>35</td>\n",
              "    </tr>\n",
              "    <tr>\n",
              "      <th>Dubai International Cricket Stadium</th>\n",
              "      <td>33</td>\n",
              "    </tr>\n",
              "    <tr>\n",
              "      <th>Sheikh Zayed Stadium</th>\n",
              "      <td>29</td>\n",
              "    </tr>\n",
              "    <tr>\n",
              "      <th>Punjab Cricket Association IS Bindra Stadium, Mohali</th>\n",
              "      <td>21</td>\n",
              "    </tr>\n",
              "    <tr>\n",
              "      <th>Maharashtra Cricket Association Stadium</th>\n",
              "      <td>21</td>\n",
              "    </tr>\n",
              "    <tr>\n",
              "      <th>Sharjah Cricket Stadium</th>\n",
              "      <td>18</td>\n",
              "    </tr>\n",
              "    <tr>\n",
              "      <th>Dr DY Patil Sports Academy</th>\n",
              "      <td>17</td>\n",
              "    </tr>\n",
              "    <tr>\n",
              "      <th>Subrata Roy Sahara Stadium</th>\n",
              "      <td>17</td>\n",
              "    </tr>\n",
              "    <tr>\n",
              "      <th>M.Chinnaswamy Stadium</th>\n",
              "      <td>15</td>\n",
              "    </tr>\n",
              "    <tr>\n",
              "      <th>Kingsmead</th>\n",
              "      <td>15</td>\n",
              "    </tr>\n",
              "    <tr>\n",
              "      <th>Dr. Y.S. Rajasekhara Reddy ACA-VDCA Cricket Stadium</th>\n",
              "      <td>13</td>\n",
              "    </tr>\n",
              "    <tr>\n",
              "      <th>SuperSport Park</th>\n",
              "      <td>12</td>\n",
              "    </tr>\n",
              "    <tr>\n",
              "      <th>Sardar Patel Stadium, Motera</th>\n",
              "      <td>12</td>\n",
              "    </tr>\n",
              "    <tr>\n",
              "      <th>Brabourne Stadium</th>\n",
              "      <td>11</td>\n",
              "    </tr>\n",
              "    <tr>\n",
              "      <th>Saurashtra Cricket Association Stadium</th>\n",
              "      <td>10</td>\n",
              "    </tr>\n",
              "    <tr>\n",
              "      <th>Holkar Cricket Stadium</th>\n",
              "      <td>9</td>\n",
              "    </tr>\n",
              "    <tr>\n",
              "      <th>Himachal Pradesh Cricket Association Stadium</th>\n",
              "      <td>9</td>\n",
              "    </tr>\n",
              "    <tr>\n",
              "      <th>New Wanderers Stadium</th>\n",
              "      <td>8</td>\n",
              "    </tr>\n",
              "    <tr>\n",
              "      <th>Barabati Stadium</th>\n",
              "      <td>7</td>\n",
              "    </tr>\n",
              "    <tr>\n",
              "      <th>Newlands</th>\n",
              "      <td>7</td>\n",
              "    </tr>\n",
              "    <tr>\n",
              "      <th>JSCA International Stadium Complex</th>\n",
              "      <td>7</td>\n",
              "    </tr>\n",
              "    <tr>\n",
              "      <th>St George's Park</th>\n",
              "      <td>7</td>\n",
              "    </tr>\n",
              "    <tr>\n",
              "      <th>Shaheed Veer Narayan Singh International Stadium</th>\n",
              "      <td>6</td>\n",
              "    </tr>\n",
              "    <tr>\n",
              "      <th>Nehru Stadium</th>\n",
              "      <td>5</td>\n",
              "    </tr>\n",
              "    <tr>\n",
              "      <th>Green Park</th>\n",
              "      <td>4</td>\n",
              "    </tr>\n",
              "    <tr>\n",
              "      <th>De Beers Diamond Oval</th>\n",
              "      <td>3</td>\n",
              "    </tr>\n",
              "    <tr>\n",
              "      <th>Vidarbha Cricket Association Stadium, Jamtha</th>\n",
              "      <td>3</td>\n",
              "    </tr>\n",
              "    <tr>\n",
              "      <th>Buffalo Park</th>\n",
              "      <td>3</td>\n",
              "    </tr>\n",
              "    <tr>\n",
              "      <th>OUTsurance Oval</th>\n",
              "      <td>2</td>\n",
              "    </tr>\n",
              "  </tbody>\n",
              "</table>\n",
              "</div>"
            ],
            "text/plain": [
              "                                                    no_of_matches\n",
              "Eden Gardens                                                   77\n",
              "Feroz Shah Kotla                                               74\n",
              "Wankhede Stadium                                               73\n",
              "M Chinnaswamy Stadium                                          65\n",
              "Rajiv Gandhi International Stadium, Uppal                      64\n",
              "MA Chidambaram Stadium, Chepauk                                57\n",
              "Sawai Mansingh Stadium                                         47\n",
              "Punjab Cricket Association Stadium, Mohali                     35\n",
              "Dubai International Cricket Stadium                            33\n",
              "Sheikh Zayed Stadium                                           29\n",
              "Punjab Cricket Association IS Bindra Stadium, M...             21\n",
              "Maharashtra Cricket Association Stadium                        21\n",
              "Sharjah Cricket Stadium                                        18\n",
              "Dr DY Patil Sports Academy                                     17\n",
              "Subrata Roy Sahara Stadium                                     17\n",
              "M.Chinnaswamy Stadium                                          15\n",
              "Kingsmead                                                      15\n",
              "Dr. Y.S. Rajasekhara Reddy ACA-VDCA Cricket Sta...             13\n",
              "SuperSport Park                                                12\n",
              "Sardar Patel Stadium, Motera                                   12\n",
              "Brabourne Stadium                                              11\n",
              "Saurashtra Cricket Association Stadium                         10\n",
              "Holkar Cricket Stadium                                          9\n",
              "Himachal Pradesh Cricket Association Stadium                    9\n",
              "New Wanderers Stadium                                           8\n",
              "Barabati Stadium                                                7\n",
              "Newlands                                                        7\n",
              "JSCA International Stadium Complex                              7\n",
              "St George's Park                                                7\n",
              "Shaheed Veer Narayan Singh International Stadium                6\n",
              "Nehru Stadium                                                   5\n",
              "Green Park                                                      4\n",
              "De Beers Diamond Oval                                           3\n",
              "Vidarbha Cricket Association Stadium, Jamtha                    3\n",
              "Buffalo Park                                                    3\n",
              "OUTsurance Oval                                                 2"
            ]
          },
          "metadata": {},
          "execution_count": 298
        }
      ]
    },
    {
      "cell_type": "markdown",
      "metadata": {
        "id": "dhp-sL_-3fiq"
      },
      "source": [
        "Eden garden Stadium has hosted most matches (77).\n",
        "Wankhede Stadium is the 3th on the list and hosted 73 matches.\n",
        "There were some matches played outside India as well, like in cities Kingsmead, St George’s Park, etc."
      ]
    },
    {
      "cell_type": "markdown",
      "metadata": {
        "id": "0saHsedZ4DXZ"
      },
      "source": [
        " Overview of matches played, toss won, wins, and losses for each team in the IPL history."
      ]
    },
    {
      "cell_type": "code",
      "metadata": {
        "id": "YTBq-Hi44XDH",
        "colab": {
          "base_uri": "https://localhost:8080/",
          "height": 487
        },
        "outputId": "e5b1d70f-4969-4f37-a9b7-1bff87c7461c"
      },
      "source": [
        "#total won and total loss\n",
        "overall_team_stats = pd.DataFrame(\n",
        "{'Total Matches Played': matches[\"team1\"].value_counts() + matches[\"team2\"].value_counts(), \n",
        "'Toss Won': matches[\"toss_winner\"].value_counts(), \"Total Won\": matches[\"winner\"].value_counts(), \n",
        " 'Total Lost': ((matches[\"team1\"].value_counts() + matches[\"team2\"].value_counts()) - matches[\"winner\"].value_counts())})\n",
        "overall_team_stats.sort_values(by=\"Total Won\", ascending=False)"
      ],
      "execution_count": 299,
      "outputs": [
        {
          "output_type": "display_data",
          "data": {
            "application/javascript": [
              "\n",
              "        if (window._pyforest_update_imports_cell) { window._pyforest_update_imports_cell('import bokeh\\nimport tensorflow as tf\\nfrom sklearn.feature_extraction.text import CountVectorizer\\nfrom sklearn import svm\\nimport skimage\\nimport numpy as np\\nimport matplotlib as mpl\\nimport tqdm\\nimport altair as alt\\nimport nltk\\nimport xgboost as xgb\\nimport statsmodels.api as sm\\nfrom scipy import signal as sg\\nimport textblob\\nimport sys\\nfrom sklearn.model_selection import cross_val_score\\nfrom statsmodels.tsa.arima_model import ARIMA\\nimport imutils\\nimport cv2\\nimport seaborn as sns\\nimport matplotlib.pyplot as plt\\nimport torch\\nfrom sklearn.model_selection import train_test_split\\nimport statistics\\nimport sklearn\\nimport re\\nimport spacy\\nimport pandas as pd\\nfrom sklearn import metrics'); }\n",
              "    "
            ],
            "text/plain": [
              "<IPython.core.display.Javascript object>"
            ]
          },
          "metadata": {}
        },
        {
          "output_type": "execute_result",
          "data": {
            "text/html": [
              "<div>\n",
              "<style scoped>\n",
              "    .dataframe tbody tr th:only-of-type {\n",
              "        vertical-align: middle;\n",
              "    }\n",
              "\n",
              "    .dataframe tbody tr th {\n",
              "        vertical-align: top;\n",
              "    }\n",
              "\n",
              "    .dataframe thead th {\n",
              "        text-align: right;\n",
              "    }\n",
              "</style>\n",
              "<table border=\"1\" class=\"dataframe\">\n",
              "  <thead>\n",
              "    <tr style=\"text-align: right;\">\n",
              "      <th></th>\n",
              "      <th>Total Matches Played</th>\n",
              "      <th>Toss Won</th>\n",
              "      <th>Total Won</th>\n",
              "      <th>Total Lost</th>\n",
              "    </tr>\n",
              "  </thead>\n",
              "  <tbody>\n",
              "    <tr>\n",
              "      <th>MI</th>\n",
              "      <td>203</td>\n",
              "      <td>106</td>\n",
              "      <td>120</td>\n",
              "      <td>83</td>\n",
              "    </tr>\n",
              "    <tr>\n",
              "      <th>CSK</th>\n",
              "      <td>178</td>\n",
              "      <td>97</td>\n",
              "      <td>106</td>\n",
              "      <td>72</td>\n",
              "    </tr>\n",
              "    <tr>\n",
              "      <th>KKR</th>\n",
              "      <td>192</td>\n",
              "      <td>98</td>\n",
              "      <td>99</td>\n",
              "      <td>93</td>\n",
              "    </tr>\n",
              "    <tr>\n",
              "      <th>RCB</th>\n",
              "      <td>195</td>\n",
              "      <td>87</td>\n",
              "      <td>91</td>\n",
              "      <td>104</td>\n",
              "    </tr>\n",
              "    <tr>\n",
              "      <th>KXIP</th>\n",
              "      <td>190</td>\n",
              "      <td>85</td>\n",
              "      <td>88</td>\n",
              "      <td>102</td>\n",
              "    </tr>\n",
              "    <tr>\n",
              "      <th>RR</th>\n",
              "      <td>161</td>\n",
              "      <td>87</td>\n",
              "      <td>81</td>\n",
              "      <td>80</td>\n",
              "    </tr>\n",
              "    <tr>\n",
              "      <th>DD</th>\n",
              "      <td>161</td>\n",
              "      <td>80</td>\n",
              "      <td>67</td>\n",
              "      <td>94</td>\n",
              "    </tr>\n",
              "    <tr>\n",
              "      <th>SRH</th>\n",
              "      <td>124</td>\n",
              "      <td>57</td>\n",
              "      <td>66</td>\n",
              "      <td>58</td>\n",
              "    </tr>\n",
              "    <tr>\n",
              "      <th>DC</th>\n",
              "      <td>75</td>\n",
              "      <td>43</td>\n",
              "      <td>29</td>\n",
              "      <td>46</td>\n",
              "    </tr>\n",
              "    <tr>\n",
              "      <th>DCA</th>\n",
              "      <td>33</td>\n",
              "      <td>20</td>\n",
              "      <td>19</td>\n",
              "      <td>14</td>\n",
              "    </tr>\n",
              "    <tr>\n",
              "      <th>RPS</th>\n",
              "      <td>30</td>\n",
              "      <td>13</td>\n",
              "      <td>15</td>\n",
              "      <td>15</td>\n",
              "    </tr>\n",
              "    <tr>\n",
              "      <th>GL</th>\n",
              "      <td>30</td>\n",
              "      <td>15</td>\n",
              "      <td>13</td>\n",
              "      <td>17</td>\n",
              "    </tr>\n",
              "    <tr>\n",
              "      <th>PW</th>\n",
              "      <td>46</td>\n",
              "      <td>20</td>\n",
              "      <td>12</td>\n",
              "      <td>34</td>\n",
              "    </tr>\n",
              "    <tr>\n",
              "      <th>KTK</th>\n",
              "      <td>14</td>\n",
              "      <td>8</td>\n",
              "      <td>6</td>\n",
              "      <td>8</td>\n",
              "    </tr>\n",
              "  </tbody>\n",
              "</table>\n",
              "</div>"
            ],
            "text/plain": [
              "      Total Matches Played  Toss Won  Total Won  Total Lost\n",
              "MI                     203       106        120          83\n",
              "CSK                    178        97        106          72\n",
              "KKR                    192        98         99          93\n",
              "RCB                    195        87         91         104\n",
              "KXIP                   190        85         88         102\n",
              "RR                     161        87         81          80\n",
              "DD                     161        80         67          94\n",
              "SRH                    124        57         66          58\n",
              "DC                      75        43         29          46\n",
              "DCA                     33        20         19          14\n",
              "RPS                     30        13         15          15\n",
              "GL                      30        15         13          17\n",
              "PW                      46        20         12          34\n",
              "KTK                     14         8          6           8"
            ]
          },
          "metadata": {},
          "execution_count": 299
        }
      ]
    },
    {
      "cell_type": "code",
      "metadata": {
        "id": "q0osk4jtA4DZ",
        "colab": {
          "base_uri": "https://localhost:8080/",
          "height": 538
        },
        "outputId": "dc417fda-ccde-4b43-9036-2434a1aa3101"
      },
      "source": [
        "#histplot team1\n",
        "sns.set_theme(style=\"darkgrid\")\n",
        "sns.set(rc={'figure.figsize':(11.7,8.27)})\n",
        "sns.histplot(x='team1',y='result',data=matches) "
      ],
      "execution_count": 300,
      "outputs": [
        {
          "output_type": "display_data",
          "data": {
            "application/javascript": [
              "\n",
              "        if (window._pyforest_update_imports_cell) { window._pyforest_update_imports_cell('import bokeh\\nimport tensorflow as tf\\nfrom sklearn.feature_extraction.text import CountVectorizer\\nfrom sklearn import svm\\nimport skimage\\nimport numpy as np\\nimport matplotlib as mpl\\nimport tqdm\\nimport altair as alt\\nimport nltk\\nimport xgboost as xgb\\nimport statsmodels.api as sm\\nfrom scipy import signal as sg\\nimport textblob\\nimport sys\\nfrom sklearn.model_selection import cross_val_score\\nfrom statsmodels.tsa.arima_model import ARIMA\\nimport imutils\\nimport cv2\\nimport seaborn as sns\\nimport matplotlib.pyplot as plt\\nimport torch\\nfrom sklearn.model_selection import train_test_split\\nimport statistics\\nimport sklearn\\nimport re\\nimport spacy\\nimport pandas as pd\\nfrom sklearn import metrics'); }\n",
              "    "
            ],
            "text/plain": [
              "<IPython.core.display.Javascript object>"
            ]
          },
          "metadata": {}
        },
        {
          "output_type": "display_data",
          "data": {
            "application/javascript": [
              "\n",
              "        if (window._pyforest_update_imports_cell) { window._pyforest_update_imports_cell('import bokeh\\nimport tensorflow as tf\\nfrom sklearn.feature_extraction.text import CountVectorizer\\nfrom sklearn import svm\\nimport skimage\\nimport numpy as np\\nimport matplotlib as mpl\\nimport tqdm\\nimport altair as alt\\nimport nltk\\nimport xgboost as xgb\\nimport statsmodels.api as sm\\nfrom scipy import signal as sg\\nimport textblob\\nimport sys\\nfrom sklearn.model_selection import cross_val_score\\nfrom statsmodels.tsa.arima_model import ARIMA\\nimport imutils\\nimport cv2\\nimport seaborn as sns\\nimport matplotlib.pyplot as plt\\nimport torch\\nfrom sklearn.model_selection import train_test_split\\nimport statistics\\nimport sklearn\\nimport re\\nimport spacy\\nimport pandas as pd\\nfrom sklearn import metrics'); }\n",
              "    "
            ],
            "text/plain": [
              "<IPython.core.display.Javascript object>"
            ]
          },
          "metadata": {}
        },
        {
          "output_type": "display_data",
          "data": {
            "application/javascript": [
              "\n",
              "        if (window._pyforest_update_imports_cell) { window._pyforest_update_imports_cell('import bokeh\\nimport tensorflow as tf\\nfrom sklearn.feature_extraction.text import CountVectorizer\\nfrom sklearn import svm\\nimport skimage\\nimport numpy as np\\nimport matplotlib as mpl\\nimport tqdm\\nimport altair as alt\\nimport nltk\\nimport xgboost as xgb\\nimport statsmodels.api as sm\\nfrom scipy import signal as sg\\nimport textblob\\nimport sys\\nfrom sklearn.model_selection import cross_val_score\\nfrom statsmodels.tsa.arima_model import ARIMA\\nimport imutils\\nimport cv2\\nimport seaborn as sns\\nimport matplotlib.pyplot as plt\\nimport torch\\nfrom sklearn.model_selection import train_test_split\\nimport statistics\\nimport sklearn\\nimport re\\nimport spacy\\nimport pandas as pd\\nfrom sklearn import metrics'); }\n",
              "    "
            ],
            "text/plain": [
              "<IPython.core.display.Javascript object>"
            ]
          },
          "metadata": {}
        },
        {
          "output_type": "execute_result",
          "data": {
            "text/plain": [
              "<matplotlib.axes._subplots.AxesSubplot at 0x7f3d5f2a52d0>"
            ]
          },
          "metadata": {},
          "execution_count": 300
        },
        {
          "output_type": "display_data",
          "data": {
            "image/png": "[encoded data removed]",
            "text/plain": [
              "<Figure size 842.4x595.44 with 1 Axes>"
            ]
          },
          "metadata": {}
        }
      ]
    },
    {
      "cell_type": "code",
      "metadata": {
        "id": "NyfN_HXPC7tN",
        "colab": {
          "base_uri": "https://localhost:8080/",
          "height": 538
        },
        "outputId": "6b73187f-1a2d-4dda-ca59-8265a593df76"
      },
      "source": [
        "#histplot team2\n",
        "sns.set_theme(style=\"darkgrid\")\n",
        "sns.set(rc={'figure.figsize':(11.7,8.27)})\n",
        "sns.histplot(x='team2',y='result',data=matches)"
      ],
      "execution_count": 301,
      "outputs": [
        {
          "output_type": "display_data",
          "data": {
            "application/javascript": [
              "\n",
              "        if (window._pyforest_update_imports_cell) { window._pyforest_update_imports_cell('import bokeh\\nimport tensorflow as tf\\nfrom sklearn.feature_extraction.text import CountVectorizer\\nfrom sklearn import svm\\nimport skimage\\nimport numpy as np\\nimport matplotlib as mpl\\nimport tqdm\\nimport altair as alt\\nimport nltk\\nimport xgboost as xgb\\nimport statsmodels.api as sm\\nfrom scipy import signal as sg\\nimport textblob\\nimport sys\\nfrom sklearn.model_selection import cross_val_score\\nfrom statsmodels.tsa.arima_model import ARIMA\\nimport imutils\\nimport cv2\\nimport seaborn as sns\\nimport matplotlib.pyplot as plt\\nimport torch\\nfrom sklearn.model_selection import train_test_split\\nimport statistics\\nimport sklearn\\nimport re\\nimport spacy\\nimport pandas as pd\\nfrom sklearn import metrics'); }\n",
              "    "
            ],
            "text/plain": [
              "<IPython.core.display.Javascript object>"
            ]
          },
          "metadata": {}
        },
        {
          "output_type": "display_data",
          "data": {
            "application/javascript": [
              "\n",
              "        if (window._pyforest_update_imports_cell) { window._pyforest_update_imports_cell('import bokeh\\nimport tensorflow as tf\\nfrom sklearn.feature_extraction.text import CountVectorizer\\nfrom sklearn import svm\\nimport skimage\\nimport numpy as np\\nimport matplotlib as mpl\\nimport tqdm\\nimport altair as alt\\nimport nltk\\nimport xgboost as xgb\\nimport statsmodels.api as sm\\nfrom scipy import signal as sg\\nimport textblob\\nimport sys\\nfrom sklearn.model_selection import cross_val_score\\nfrom statsmodels.tsa.arima_model import ARIMA\\nimport imutils\\nimport cv2\\nimport seaborn as sns\\nimport matplotlib.pyplot as plt\\nimport torch\\nfrom sklearn.model_selection import train_test_split\\nimport statistics\\nimport sklearn\\nimport re\\nimport spacy\\nimport pandas as pd\\nfrom sklearn import metrics'); }\n",
              "    "
            ],
            "text/plain": [
              "<IPython.core.display.Javascript object>"
            ]
          },
          "metadata": {}
        },
        {
          "output_type": "display_data",
          "data": {
            "application/javascript": [
              "\n",
              "        if (window._pyforest_update_imports_cell) { window._pyforest_update_imports_cell('import bokeh\\nimport tensorflow as tf\\nfrom sklearn.feature_extraction.text import CountVectorizer\\nfrom sklearn import svm\\nimport skimage\\nimport numpy as np\\nimport matplotlib as mpl\\nimport tqdm\\nimport altair as alt\\nimport nltk\\nimport xgboost as xgb\\nimport statsmodels.api as sm\\nfrom scipy import signal as sg\\nimport textblob\\nimport sys\\nfrom sklearn.model_selection import cross_val_score\\nfrom statsmodels.tsa.arima_model import ARIMA\\nimport imutils\\nimport cv2\\nimport seaborn as sns\\nimport matplotlib.pyplot as plt\\nimport torch\\nfrom sklearn.model_selection import train_test_split\\nimport statistics\\nimport sklearn\\nimport re\\nimport spacy\\nimport pandas as pd\\nfrom sklearn import metrics'); }\n",
              "    "
            ],
            "text/plain": [
              "<IPython.core.display.Javascript object>"
            ]
          },
          "metadata": {}
        },
        {
          "output_type": "execute_result",
          "data": {
            "text/plain": [
              "<matplotlib.axes._subplots.AxesSubplot at 0x7f3d5f25eb90>"
            ]
          },
          "metadata": {},
          "execution_count": 301
        },
        {
          "output_type": "display_data",
          "data": {
            "image/png": "[encoded data removed]",
            "text/plain": [
              "<Figure size 842.4x595.44 with 1 Axes>"
            ]
          },
          "metadata": {}
        }
      ]
    },
    {
      "cell_type": "code",
      "metadata": {
        "id": "3c2EWwcmEC84",
        "colab": {
          "base_uri": "https://localhost:8080/",
          "height": 538
        },
        "outputId": "ffe61ea9-4e54-4ee2-bcea-d40c884320cb"
      },
      "source": [
        "#different result margin from different team\n",
        "sns.set_theme(style=\"darkgrid\")\n",
        "sns.set(rc={'figure.figsize':(11.7,8.27)})\n",
        "sns.histplot(x='winner',y='result_margin',data=matches)"
      ],
      "execution_count": 308,
      "outputs": [
        {
          "output_type": "display_data",
          "data": {
            "application/javascript": [
              "\n",
              "        if (window._pyforest_update_imports_cell) { window._pyforest_update_imports_cell('import bokeh\\nimport tensorflow as tf\\nfrom sklearn.feature_extraction.text import CountVectorizer\\nfrom sklearn import svm\\nimport skimage\\nimport numpy as np\\nimport matplotlib as mpl\\nimport tqdm\\nimport altair as alt\\nimport nltk\\nimport plotly as py\\nimport xgboost as xgb\\nimport plotly.express as px\\nimport statsmodels.api as sm\\nfrom scipy import signal as sg\\nimport textblob\\nimport sys\\nfrom sklearn.model_selection import cross_val_score\\nfrom statsmodels.tsa.arima_model import ARIMA\\nimport pydot\\nimport imutils\\nimport cv2\\nimport seaborn as sns\\nimport pickle\\nimport matplotlib.pyplot as plt\\nimport torch\\nfrom sklearn.model_selection import train_test_split\\nimport statistics\\nimport sklearn\\nimport re\\nimport spacy\\nimport pandas as pd\\nfrom sklearn import metrics'); }\n",
              "    "
            ],
            "text/plain": [
              "<IPython.core.display.Javascript object>"
            ]
          },
          "metadata": {}
        },
        {
          "output_type": "display_data",
          "data": {
            "application/javascript": [
              "\n",
              "        if (window._pyforest_update_imports_cell) { window._pyforest_update_imports_cell('import bokeh\\nimport tensorflow as tf\\nfrom sklearn.feature_extraction.text import CountVectorizer\\nfrom sklearn import svm\\nimport skimage\\nimport numpy as np\\nimport matplotlib as mpl\\nimport tqdm\\nimport altair as alt\\nimport nltk\\nimport plotly as py\\nimport xgboost as xgb\\nimport plotly.express as px\\nimport statsmodels.api as sm\\nfrom scipy import signal as sg\\nimport textblob\\nimport sys\\nfrom sklearn.model_selection import cross_val_score\\nfrom statsmodels.tsa.arima_model import ARIMA\\nimport pydot\\nimport imutils\\nimport cv2\\nimport seaborn as sns\\nimport pickle\\nimport matplotlib.pyplot as plt\\nimport torch\\nfrom sklearn.model_selection import train_test_split\\nimport statistics\\nimport sklearn\\nimport re\\nimport spacy\\nimport pandas as pd\\nfrom sklearn import metrics'); }\n",
              "    "
            ],
            "text/plain": [
              "<IPython.core.display.Javascript object>"
            ]
          },
          "metadata": {}
        },
        {
          "output_type": "display_data",
          "data": {
            "application/javascript": [
              "\n",
              "        if (window._pyforest_update_imports_cell) { window._pyforest_update_imports_cell('import bokeh\\nimport tensorflow as tf\\nfrom sklearn.feature_extraction.text import CountVectorizer\\nfrom sklearn import svm\\nimport skimage\\nimport numpy as np\\nimport matplotlib as mpl\\nimport tqdm\\nimport altair as alt\\nimport nltk\\nimport plotly as py\\nimport xgboost as xgb\\nimport plotly.express as px\\nimport statsmodels.api as sm\\nfrom scipy import signal as sg\\nimport textblob\\nimport sys\\nfrom sklearn.model_selection import cross_val_score\\nfrom statsmodels.tsa.arima_model import ARIMA\\nimport pydot\\nimport imutils\\nimport cv2\\nimport seaborn as sns\\nimport pickle\\nimport matplotlib.pyplot as plt\\nimport torch\\nfrom sklearn.model_selection import train_test_split\\nimport statistics\\nimport sklearn\\nimport re\\nimport spacy\\nimport pandas as pd\\nfrom sklearn import metrics'); }\n",
              "    "
            ],
            "text/plain": [
              "<IPython.core.display.Javascript object>"
            ]
          },
          "metadata": {}
        },
        {
          "output_type": "execute_result",
          "data": {
            "text/plain": [
              "<matplotlib.axes._subplots.AxesSubplot at 0x7f3d5e056950>"
            ]
          },
          "metadata": {},
          "execution_count": 308
        },
        {
          "output_type": "display_data",
          "data": {
            "image/png": "[encoded data removed]",
            "text/plain": [
              "<Figure size 842.4x595.44 with 1 Axes>"
            ]
          },
          "metadata": {}
        }
      ]
    },
    {
      "cell_type": "code",
      "metadata": {
        "id": "t_CsNHnb98xR",
        "colab": {
          "base_uri": "https://localhost:8080/"
        },
        "outputId": "9b92dcd2-18a8-406e-f16c-308ee91f9f60"
      },
      "source": [
        "#neutral_venue feature\n",
        "matches['neutral_venue'].value_counts()"
      ],
      "execution_count": 303,
      "outputs": [
        {
          "output_type": "execute_result",
          "data": {
            "text/plain": [
              "0    739\n",
              "1     77\n",
              "Name: neutral_venue, dtype: int64"
            ]
          },
          "metadata": {},
          "execution_count": 303
        }
      ]
    },
    {
      "cell_type": "code",
      "metadata": {
        "colab": {
          "base_uri": "https://localhost:8080/",
          "height": 538
        },
        "id": "Ed300l6N6qj3",
        "outputId": "e31f2c45-e725-4961-bd75-dae43be5f889"
      },
      "source": [
        "#result margin(distplot)\n",
        "sns.distplot(matches['result_margin'])"
      ],
      "execution_count": 305,
      "outputs": [
        {
          "output_type": "display_data",
          "data": {
            "application/javascript": [
              "\n",
              "        if (window._pyforest_update_imports_cell) { window._pyforest_update_imports_cell('import bokeh\\nimport tensorflow as tf\\nfrom sklearn.feature_extraction.text import CountVectorizer\\nfrom sklearn import svm\\nimport skimage\\nimport numpy as np\\nimport matplotlib as mpl\\nimport tqdm\\nimport altair as alt\\nimport nltk\\nimport xgboost as xgb\\nimport statsmodels.api as sm\\nfrom scipy import signal as sg\\nimport textblob\\nimport sys\\nfrom sklearn.model_selection import cross_val_score\\nfrom statsmodels.tsa.arima_model import ARIMA\\nimport imutils\\nimport cv2\\nimport seaborn as sns\\nimport matplotlib.pyplot as plt\\nimport torch\\nfrom sklearn.model_selection import train_test_split\\nimport statistics\\nimport sklearn\\nimport re\\nimport spacy\\nimport pandas as pd\\nfrom sklearn import metrics'); }\n",
              "    "
            ],
            "text/plain": [
              "<IPython.core.display.Javascript object>"
            ]
          },
          "metadata": {}
        },
        {
          "output_type": "execute_result",
          "data": {
            "text/plain": [
              "<matplotlib.axes._subplots.AxesSubplot at 0x7f3d5f0cacd0>"
            ]
          },
          "metadata": {},
          "execution_count": 305
        },
        {
          "output_type": "display_data",
          "data": {
            "image/png": "[encoded data removed]",
            "text/plain": [
              "<Figure size 842.4x595.44 with 1 Axes>"
            ]
          },
          "metadata": {}
        }
      ]
    },
    {
      "cell_type": "code",
      "metadata": {
        "colab": {
          "base_uri": "https://localhost:8080/",
          "height": 538
        },
        "id": "QePKNrMv7YSZ",
        "outputId": "5936ba50-1961-46c3-a310-dea41c8aea3c"
      },
      "source": [
        "#result margin box plot\n",
        "sns.boxplot(x=matches[\"result_margin\"])"
      ],
      "execution_count": 307,
      "outputs": [
        {
          "output_type": "display_data",
          "data": {
            "application/javascript": [
              "\n",
              "        if (window._pyforest_update_imports_cell) { window._pyforest_update_imports_cell('import bokeh\\nimport tensorflow as tf\\nfrom sklearn.feature_extraction.text import CountVectorizer\\nfrom sklearn import svm\\nimport skimage\\nimport numpy as np\\nimport matplotlib as mpl\\nimport tqdm\\nimport altair as alt\\nimport nltk\\nimport xgboost as xgb\\nimport statsmodels.api as sm\\nfrom scipy import signal as sg\\nimport textblob\\nimport sys\\nfrom sklearn.model_selection import cross_val_score\\nfrom statsmodels.tsa.arima_model import ARIMA\\nimport imutils\\nimport cv2\\nimport seaborn as sns\\nimport matplotlib.pyplot as plt\\nimport torch\\nfrom sklearn.model_selection import train_test_split\\nimport statistics\\nimport sklearn\\nimport re\\nimport spacy\\nimport pandas as pd\\nfrom sklearn import metrics'); }\n",
              "    "
            ],
            "text/plain": [
              "<IPython.core.display.Javascript object>"
            ]
          },
          "metadata": {}
        },
        {
          "output_type": "execute_result",
          "data": {
            "text/plain": [
              "<matplotlib.axes._subplots.AxesSubplot at 0x7f3d5efc54d0>"
            ]
          },
          "metadata": {},
          "execution_count": 307
        },
        {
          "output_type": "display_data",
          "data": {
            "image/png": "[encoded data removed]",
            "text/plain": [
              "<Figure size 842.4x595.44 with 1 Axes>"
            ]
          },
          "metadata": {}
        }
      ]
    },
    {
      "cell_type": "markdown",
      "metadata": {
        "id": "fMdZsIg2_3U_"
      },
      "source": [
        "this eda will help in further processing."
      ]
    }
  ]
}